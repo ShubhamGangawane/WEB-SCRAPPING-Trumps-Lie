{
 "cells": [
  {
   "cell_type": "markdown",
   "metadata": {},
   "source": [
    "### Reading the web page into python"
   ]
  },
  {
   "cell_type": "code",
   "execution_count": 1,
   "metadata": {},
   "outputs": [],
   "source": [
    "import requests # To load the webpage"
   ]
  },
  {
   "cell_type": "code",
   "execution_count": 2,
   "metadata": {},
   "outputs": [],
   "source": [
    "r = requests.get('https://www.nytimes.com/interactive/2017/06/23/opinion/trumps-lies.html')"
   ]
  },
  {
   "cell_type": "code",
   "execution_count": 3,
   "metadata": {},
   "outputs": [
    {
     "data": {
      "text/plain": [
       "<Response [200]>"
      ]
     },
     "execution_count": 3,
     "metadata": {},
     "output_type": "execute_result"
    }
   ],
   "source": [
    "r"
   ]
  },
  {
   "cell_type": "code",
   "execution_count": 4,
   "metadata": {},
   "outputs": [
    {
     "data": {
      "text/plain": [
       "'<!DOCTYPE html>\\n<!--[if (gt IE 9)|!(IE)]> <!--><html lang=\"en\" class=\"no-js page-interactive section-opinion page-theme-standard tone-opinion page-interactive-default limit-small layout-xlarge app-interactive\" itemid=\"https://www.nytimes.com/interactive/2017/06/23/opinion/trumps-lies.html\" itemtype=\"http://schema.org/NewsArticle\" itemscope xmlns:og=\"http://opengraphprotocol.org/schema/\"><!--<![endif]-->\\n<!--[if IE 9]> <html lang=\"en\" class=\"no-js ie9 lt-ie10 page-interactive section-opinion page'"
      ]
     },
     "execution_count": 4,
     "metadata": {},
     "output_type": "execute_result"
    }
   ],
   "source": [
    "r.text[:500]"
   ]
  },
  {
   "cell_type": "markdown",
   "metadata": {},
   "source": [
    "### parsing the html using BeautifulSoup"
   ]
  },
  {
   "cell_type": "code",
   "execution_count": 5,
   "metadata": {},
   "outputs": [],
   "source": [
    "from bs4 import BeautifulSoup as bs # It will display the content which are inside the tags"
   ]
  },
  {
   "cell_type": "code",
   "execution_count": 6,
   "metadata": {},
   "outputs": [],
   "source": [
    "soup = bs(r.text, 'html.parser') # to Parsing the content using html tags"
   ]
  },
  {
   "cell_type": "code",
   "execution_count": null,
   "metadata": {},
   "outputs": [],
   "source": [
    "print(soup.prettify())"
   ]
  },
  {
   "cell_type": "markdown",
   "metadata": {},
   "source": [
    "### Collecting all the records"
   ]
  },
  {
   "cell_type": "code",
   "execution_count": 8,
   "metadata": {},
   "outputs": [],
   "source": [
    "result = soup.find_all('span', attrs={'class':'short-desc'})"
   ]
  },
  {
   "cell_type": "code",
   "execution_count": 9,
   "metadata": {},
   "outputs": [
    {
     "data": {
      "text/plain": [
       "180"
      ]
     },
     "execution_count": 9,
     "metadata": {},
     "output_type": "execute_result"
    }
   ],
   "source": [
    "len(result)"
   ]
  },
  {
   "cell_type": "code",
   "execution_count": null,
   "metadata": {},
   "outputs": [],
   "source": [
    "print(result)"
   ]
  },
  {
   "cell_type": "code",
   "execution_count": 11,
   "metadata": {},
   "outputs": [
    {
     "data": {
      "text/plain": [
       "<span class=\"short-desc\"><strong>Jan. 21 </strong>“I wasn't a fan of Iraq. I didn't want to go into Iraq.” <span class=\"short-truth\"><a href=\"https://www.buzzfeed.com/andrewkaczynski/in-2002-donald-trump-said-he-supported-invading-iraq-on-the\" target=\"_blank\">(He was for an invasion before he was against it.)</a></span></span>"
      ]
     },
     "execution_count": 11,
     "metadata": {},
     "output_type": "execute_result"
    }
   ],
   "source": [
    "result[0]"
   ]
  },
  {
   "cell_type": "code",
   "execution_count": 12,
   "metadata": {},
   "outputs": [
    {
     "data": {
      "text/plain": [
       "<span class=\"short-desc\"><strong>Jan. 21 </strong>“A reporter for Time magazine — and I have been on their cover 14 or 15 times. I think we have the all-time record in the history of Time magazine.” <span class=\"short-truth\"><a href=\"http://nation.time.com/2013/11/06/10-things-you-didnt-know-about-time/\" target=\"_blank\">(Trump was on the cover 11 times and Nixon appeared 55 times.)</a></span></span>"
      ]
     },
     "execution_count": 12,
     "metadata": {},
     "output_type": "execute_result"
    }
   ],
   "source": [
    "result[1]"
   ]
  },
  {
   "cell_type": "code",
   "execution_count": 13,
   "metadata": {},
   "outputs": [
    {
     "data": {
      "text/plain": [
       "<span class=\"short-desc\"><strong>Nov. 11 </strong>“I'd rather have him  – you know, work with him on the Ukraine than standing and arguing about whether or not  – because that whole thing was set up by the Democrats.” <span class=\"short-truth\"><a href=\"https://www.nytimes.com/interactive/2017/12/10/us/politics/trump-and-russia.html\" target=\"_blank\">(There is no evidence that Democrats \"set up\" Russian interference in the election.)</a></span></span>"
      ]
     },
     "execution_count": 13,
     "metadata": {},
     "output_type": "execute_result"
    }
   ],
   "source": [
    "result[-1]"
   ]
  },
  {
   "cell_type": "markdown",
   "metadata": {},
   "source": [
    "### Extracting the Dates "
   ]
  },
  {
   "cell_type": "code",
   "execution_count": 14,
   "metadata": {},
   "outputs": [],
   "source": [
    "result0 = result[0]"
   ]
  },
  {
   "cell_type": "code",
   "execution_count": 15,
   "metadata": {},
   "outputs": [
    {
     "data": {
      "text/plain": [
       "<span class=\"short-desc\"><strong>Jan. 21 </strong>“I wasn't a fan of Iraq. I didn't want to go into Iraq.” <span class=\"short-truth\"><a href=\"https://www.buzzfeed.com/andrewkaczynski/in-2002-donald-trump-said-he-supported-invading-iraq-on-the\" target=\"_blank\">(He was for an invasion before he was against it.)</a></span></span>"
      ]
     },
     "execution_count": 15,
     "metadata": {},
     "output_type": "execute_result"
    }
   ],
   "source": [
    "result0"
   ]
  },
  {
   "cell_type": "code",
   "execution_count": 16,
   "metadata": {},
   "outputs": [
    {
     "data": {
      "text/plain": [
       "<strong>Jan. 21 </strong>"
      ]
     },
     "execution_count": 16,
     "metadata": {},
     "output_type": "execute_result"
    }
   ],
   "source": [
    "result0.find('strong')"
   ]
  },
  {
   "cell_type": "code",
   "execution_count": 17,
   "metadata": {},
   "outputs": [
    {
     "data": {
      "text/plain": [
       "'Jan. 21\\xa0'"
      ]
     },
     "execution_count": 17,
     "metadata": {},
     "output_type": "execute_result"
    }
   ],
   "source": [
    "result0.find('strong').text # or get_text "
   ]
  },
  {
   "cell_type": "code",
   "execution_count": 18,
   "metadata": {},
   "outputs": [
    {
     "data": {
      "text/plain": [
       "'Jan. 21'"
      ]
     },
     "execution_count": 18,
     "metadata": {},
     "output_type": "execute_result"
    }
   ],
   "source": [
    "result0.find('strong').text[0:7]"
   ]
  },
  {
   "cell_type": "code",
   "execution_count": 19,
   "metadata": {},
   "outputs": [
    {
     "data": {
      "text/plain": [
       "'Jan. 21, 2017'"
      ]
     },
     "execution_count": 19,
     "metadata": {},
     "output_type": "execute_result"
    }
   ],
   "source": [
    "result0.find('strong').text[0:7] + ', 2017'"
   ]
  },
  {
   "cell_type": "markdown",
   "metadata": {},
   "source": [
    "### Extracting the lie"
   ]
  },
  {
   "cell_type": "code",
   "execution_count": 20,
   "metadata": {},
   "outputs": [
    {
     "data": {
      "text/plain": [
       "<span class=\"short-desc\"><strong>Jan. 21 </strong>“I wasn't a fan of Iraq. I didn't want to go into Iraq.” <span class=\"short-truth\"><a href=\"https://www.buzzfeed.com/andrewkaczynski/in-2002-donald-trump-said-he-supported-invading-iraq-on-the\" target=\"_blank\">(He was for an invasion before he was against it.)</a></span></span>"
      ]
     },
     "execution_count": 20,
     "metadata": {},
     "output_type": "execute_result"
    }
   ],
   "source": [
    "result0"
   ]
  },
  {
   "cell_type": "code",
   "execution_count": 21,
   "metadata": {},
   "outputs": [
    {
     "data": {
      "text/plain": [
       "[<strong>Jan. 21 </strong>,\n",
       " \"“I wasn't a fan of Iraq. I didn't want to go into Iraq.” \",\n",
       " <span class=\"short-truth\"><a href=\"https://www.buzzfeed.com/andrewkaczynski/in-2002-donald-trump-said-he-supported-invading-iraq-on-the\" target=\"_blank\">(He was for an invasion before he was against it.)</a></span>]"
      ]
     },
     "execution_count": 21,
     "metadata": {},
     "output_type": "execute_result"
    }
   ],
   "source": [
    "result0.contents"
   ]
  },
  {
   "cell_type": "code",
   "execution_count": 22,
   "metadata": {},
   "outputs": [
    {
     "data": {
      "text/plain": [
       "\"“I wasn't a fan of Iraq. I didn't want to go into Iraq.” \""
      ]
     },
     "execution_count": 22,
     "metadata": {},
     "output_type": "execute_result"
    }
   ],
   "source": [
    "result0.contents[1]"
   ]
  },
  {
   "cell_type": "code",
   "execution_count": 23,
   "metadata": {},
   "outputs": [
    {
     "data": {
      "text/plain": [
       "\"I wasn't a fan of Iraq. I didn't want to go into Iraq.\""
      ]
     },
     "execution_count": 23,
     "metadata": {},
     "output_type": "execute_result"
    }
   ],
   "source": [
    "result0.contents[1][1:-2]"
   ]
  },
  {
   "cell_type": "markdown",
   "metadata": {},
   "source": [
    "### Extracting the explanation"
   ]
  },
  {
   "cell_type": "code",
   "execution_count": 24,
   "metadata": {},
   "outputs": [
    {
     "data": {
      "text/plain": [
       "<span class=\"short-desc\"><strong>Jan. 21 </strong>“I wasn't a fan of Iraq. I didn't want to go into Iraq.” <span class=\"short-truth\"><a href=\"https://www.buzzfeed.com/andrewkaczynski/in-2002-donald-trump-said-he-supported-invading-iraq-on-the\" target=\"_blank\">(He was for an invasion before he was against it.)</a></span></span>"
      ]
     },
     "execution_count": 24,
     "metadata": {},
     "output_type": "execute_result"
    }
   ],
   "source": [
    "result0"
   ]
  },
  {
   "cell_type": "code",
   "execution_count": 25,
   "metadata": {},
   "outputs": [
    {
     "data": {
      "text/plain": [
       "<a href=\"https://www.buzzfeed.com/andrewkaczynski/in-2002-donald-trump-said-he-supported-invading-iraq-on-the\" target=\"_blank\">(He was for an invasion before he was against it.)</a>"
      ]
     },
     "execution_count": 25,
     "metadata": {},
     "output_type": "execute_result"
    }
   ],
   "source": [
    "result0.find('a')"
   ]
  },
  {
   "cell_type": "code",
   "execution_count": 26,
   "metadata": {},
   "outputs": [
    {
     "data": {
      "text/plain": [
       "'He was for an invasion before he was against it.'"
      ]
     },
     "execution_count": 26,
     "metadata": {},
     "output_type": "execute_result"
    }
   ],
   "source": [
    "result0.find('a').text[1:-1]"
   ]
  },
  {
   "cell_type": "markdown",
   "metadata": {},
   "source": [
    "### Extracting the Links"
   ]
  },
  {
   "cell_type": "code",
   "execution_count": 27,
   "metadata": {},
   "outputs": [
    {
     "data": {
      "text/plain": [
       "<a href=\"https://www.buzzfeed.com/andrewkaczynski/in-2002-donald-trump-said-he-supported-invading-iraq-on-the\" target=\"_blank\">(He was for an invasion before he was against it.)</a>"
      ]
     },
     "execution_count": 27,
     "metadata": {},
     "output_type": "execute_result"
    }
   ],
   "source": [
    "result0.find('a')"
   ]
  },
  {
   "cell_type": "code",
   "execution_count": 28,
   "metadata": {},
   "outputs": [
    {
     "data": {
      "text/plain": [
       "'https://www.buzzfeed.com/andrewkaczynski/in-2002-donald-trump-said-he-supported-invading-iraq-on-the'"
      ]
     },
     "execution_count": 28,
     "metadata": {},
     "output_type": "execute_result"
    }
   ],
   "source": [
    "result0.find('a')['href']"
   ]
  },
  {
   "cell_type": "markdown",
   "metadata": {},
   "source": [
    "## Notes for Beautiful Soup Methods & Attributes"
   ]
  },
  {
   "cell_type": "markdown",
   "metadata": {},
   "source": [
    "**You can apply these two methods to either initialse soup object or a tag object**\n",
    "\n",
    "- find() :- searches for the first matching tag and returns a tag object\n",
    "- find_all() :- searches for all the matching tags and returns a resultant object as a list\n",
    "\n",
    "**You can extract information from a tag object using these two attributes**\n",
    "\n",
    "- text :- extracts the text of a tag object and returns a string\n",
    "- contents :- extracts the children of a tag and returns  a list of tags and strings     "
   ]
  },
  {
   "cell_type": "markdown",
   "metadata": {},
   "source": [
    "### Iterating"
   ]
  },
  {
   "cell_type": "code",
   "execution_count": 29,
   "metadata": {},
   "outputs": [],
   "source": [
    "record = []\n",
    "\n",
    "for i in result:\n",
    "    date = i.find('strong').text[0:7] + ', 2017'\n",
    "    lie = i.contents[1][1:-2]\n",
    "    exp = i.find('a').text[1:-1]\n",
    "    link = i.find('a')['href']\n",
    "    \n",
    "    record.append((date,lie,exp,link))"
   ]
  },
  {
   "cell_type": "code",
   "execution_count": 195,
   "metadata": {},
   "outputs": [
    {
     "data": {
      "text/plain": [
       "[('Jan. 21, 2017',\n",
       "  \"I wasn't a fan of Iraq. I didn't want to go into Iraq.\",\n",
       "  'He was for an invasion before he was against it.',\n",
       "  'https://www.buzzfeed.com/andrewkaczynski/in-2002-donald-trump-said-he-supported-invading-iraq-on-the'),\n",
       " ('Jan. 21, 2017',\n",
       "  'A reporter for Time magazine — and I have been on their cover 14 or 15 times. I think we have the all-time record in the history of Time magazine.',\n",
       "  'Trump was on the cover 11 times and Nixon appeared 55 times.',\n",
       "  'http://nation.time.com/2013/11/06/10-things-you-didnt-know-about-time/'),\n",
       " ('Jan. 23, 2017',\n",
       "  'Between 3 million and 5 million illegal votes caused me to lose the popular vote.',\n",
       "  \"There's no evidence of illegal voting.\",\n",
       "  'https://www.nytimes.com/2017/01/23/us/politics/donald-trump-congress-democrats.html')]"
      ]
     },
     "execution_count": 195,
     "metadata": {},
     "output_type": "execute_result"
    }
   ],
   "source": [
    "record[:3]"
   ]
  },
  {
   "cell_type": "markdown",
   "metadata": {},
   "source": [
    "### Applying Tabular Data Structure"
   ]
  },
  {
   "cell_type": "code",
   "execution_count": 31,
   "metadata": {},
   "outputs": [],
   "source": [
    "import pandas as pd"
   ]
  },
  {
   "cell_type": "code",
   "execution_count": 32,
   "metadata": {},
   "outputs": [],
   "source": [
    "ny = pd.DataFrame(record, columns=['date','Trump lie','Explanation','Links']) "
   ]
  },
  {
   "cell_type": "code",
   "execution_count": 33,
   "metadata": {},
   "outputs": [
    {
     "data": {
      "text/html": [
       "<div>\n",
       "<style scoped>\n",
       "    .dataframe tbody tr th:only-of-type {\n",
       "        vertical-align: middle;\n",
       "    }\n",
       "\n",
       "    .dataframe tbody tr th {\n",
       "        vertical-align: top;\n",
       "    }\n",
       "\n",
       "    .dataframe thead th {\n",
       "        text-align: right;\n",
       "    }\n",
       "</style>\n",
       "<table border=\"1\" class=\"dataframe\">\n",
       "  <thead>\n",
       "    <tr style=\"text-align: right;\">\n",
       "      <th></th>\n",
       "      <th>date</th>\n",
       "      <th>Trump lie</th>\n",
       "      <th>Explanation</th>\n",
       "      <th>Links</th>\n",
       "    </tr>\n",
       "  </thead>\n",
       "  <tbody>\n",
       "    <tr>\n",
       "      <th>0</th>\n",
       "      <td>Jan. 21, 2017</td>\n",
       "      <td>I wasn't a fan of Iraq. I didn't want to go in...</td>\n",
       "      <td>He was for an invasion before he was against it.</td>\n",
       "      <td>https://www.buzzfeed.com/andrewkaczynski/in-20...</td>\n",
       "    </tr>\n",
       "    <tr>\n",
       "      <th>1</th>\n",
       "      <td>Jan. 21, 2017</td>\n",
       "      <td>A reporter for Time magazine — and I have been...</td>\n",
       "      <td>Trump was on the cover 11 times and Nixon appe...</td>\n",
       "      <td>http://nation.time.com/2013/11/06/10-things-yo...</td>\n",
       "    </tr>\n",
       "    <tr>\n",
       "      <th>2</th>\n",
       "      <td>Jan. 23, 2017</td>\n",
       "      <td>Between 3 million and 5 million illegal votes ...</td>\n",
       "      <td>There's no evidence of illegal voting.</td>\n",
       "      <td>https://www.nytimes.com/2017/01/23/us/politics...</td>\n",
       "    </tr>\n",
       "    <tr>\n",
       "      <th>3</th>\n",
       "      <td>Jan. 25, 2017</td>\n",
       "      <td>Now, the audience was the biggest ever. But th...</td>\n",
       "      <td>Official aerial photos show Obama's 2009 inaug...</td>\n",
       "      <td>https://www.nytimes.com/2017/01/21/us/politics...</td>\n",
       "    </tr>\n",
       "    <tr>\n",
       "      <th>4</th>\n",
       "      <td>Jan. 25, 2017</td>\n",
       "      <td>Take a look at the Pew reports (which show vot...</td>\n",
       "      <td>The report never mentioned voter fraud.</td>\n",
       "      <td>https://www.nytimes.com/2017/01/24/us/politics...</td>\n",
       "    </tr>\n",
       "  </tbody>\n",
       "</table>\n",
       "</div>"
      ],
      "text/plain": [
       "            date                                          Trump lie  \\\n",
       "0  Jan. 21, 2017  I wasn't a fan of Iraq. I didn't want to go in...   \n",
       "1  Jan. 21, 2017  A reporter for Time magazine — and I have been...   \n",
       "2  Jan. 23, 2017  Between 3 million and 5 million illegal votes ...   \n",
       "3  Jan. 25, 2017  Now, the audience was the biggest ever. But th...   \n",
       "4  Jan. 25, 2017  Take a look at the Pew reports (which show vot...   \n",
       "\n",
       "                                         Explanation  \\\n",
       "0   He was for an invasion before he was against it.   \n",
       "1  Trump was on the cover 11 times and Nixon appe...   \n",
       "2             There's no evidence of illegal voting.   \n",
       "3  Official aerial photos show Obama's 2009 inaug...   \n",
       "4            The report never mentioned voter fraud.   \n",
       "\n",
       "                                               Links  \n",
       "0  https://www.buzzfeed.com/andrewkaczynski/in-20...  \n",
       "1  http://nation.time.com/2013/11/06/10-things-yo...  \n",
       "2  https://www.nytimes.com/2017/01/23/us/politics...  \n",
       "3  https://www.nytimes.com/2017/01/21/us/politics...  \n",
       "4  https://www.nytimes.com/2017/01/24/us/politics...  "
      ]
     },
     "execution_count": 33,
     "metadata": {},
     "output_type": "execute_result"
    }
   ],
   "source": [
    "ny.head()"
   ]
  },
  {
   "cell_type": "code",
   "execution_count": 47,
   "metadata": {},
   "outputs": [
    {
     "name": "stdout",
     "output_type": "stream",
     "text": [
      "<class 'pandas.core.frame.DataFrame'>\n",
      "RangeIndex: 180 entries, 0 to 179\n",
      "Data columns (total 4 columns):\n",
      " #   Column       Non-Null Count  Dtype         \n",
      "---  ------       --------------  -----         \n",
      " 0   date         180 non-null    datetime64[ns]\n",
      " 1   Trump lie    180 non-null    object        \n",
      " 2   Explanation  180 non-null    object        \n",
      " 3   Links        180 non-null    object        \n",
      "dtypes: datetime64[ns](1), object(3)\n",
      "memory usage: 5.8+ KB\n"
     ]
    }
   ],
   "source": [
    " ny.info()"
   ]
  },
  {
   "cell_type": "code",
   "execution_count": 48,
   "metadata": {},
   "outputs": [],
   "source": [
    "ny['date'] = pd.to_datetime(ny['date'])"
   ]
  },
  {
   "cell_type": "code",
   "execution_count": 49,
   "metadata": {},
   "outputs": [
    {
     "name": "stdout",
     "output_type": "stream",
     "text": [
      "<class 'pandas.core.frame.DataFrame'>\n",
      "RangeIndex: 180 entries, 0 to 179\n",
      "Data columns (total 4 columns):\n",
      " #   Column       Non-Null Count  Dtype         \n",
      "---  ------       --------------  -----         \n",
      " 0   date         180 non-null    datetime64[ns]\n",
      " 1   Trump lie    180 non-null    object        \n",
      " 2   Explanation  180 non-null    object        \n",
      " 3   Links        180 non-null    object        \n",
      "dtypes: datetime64[ns](1), object(3)\n",
      "memory usage: 5.8+ KB\n"
     ]
    }
   ],
   "source": [
    "ny.info()"
   ]
  },
  {
   "cell_type": "markdown",
   "metadata": {},
   "source": [
    "### Exporting the Dataset into csv file"
   ]
  },
  {
   "cell_type": "code",
   "execution_count": 50,
   "metadata": {},
   "outputs": [],
   "source": [
    "ny.to_csv('Trump Lie.csv')"
   ]
  },
  {
   "cell_type": "code",
   "execution_count": 188,
   "metadata": {},
   "outputs": [
    {
     "data": {
      "text/html": [
       "<div>\n",
       "<style scoped>\n",
       "    .dataframe tbody tr th:only-of-type {\n",
       "        vertical-align: middle;\n",
       "    }\n",
       "\n",
       "    .dataframe tbody tr th {\n",
       "        vertical-align: top;\n",
       "    }\n",
       "\n",
       "    .dataframe thead th {\n",
       "        text-align: right;\n",
       "    }\n",
       "</style>\n",
       "<table border=\"1\" class=\"dataframe\">\n",
       "  <thead>\n",
       "    <tr style=\"text-align: right;\">\n",
       "      <th></th>\n",
       "      <th>Unnamed: 0</th>\n",
       "      <th>date</th>\n",
       "      <th>Trump lie</th>\n",
       "      <th>Explanation</th>\n",
       "      <th>Links</th>\n",
       "    </tr>\n",
       "  </thead>\n",
       "  <tbody>\n",
       "    <tr>\n",
       "      <th>0</th>\n",
       "      <td>0</td>\n",
       "      <td>2017-01-21</td>\n",
       "      <td>I wasn't a fan of Iraq. I didn't want to go in...</td>\n",
       "      <td>He was for an invasion before he was against it.</td>\n",
       "      <td>https://www.buzzfeed.com/andrewkaczynski/in-20...</td>\n",
       "    </tr>\n",
       "    <tr>\n",
       "      <th>1</th>\n",
       "      <td>1</td>\n",
       "      <td>2017-01-21</td>\n",
       "      <td>A reporter for Time magazine — and I have been...</td>\n",
       "      <td>Trump was on the cover 11 times and Nixon appe...</td>\n",
       "      <td>http://nation.time.com/2013/11/06/10-things-yo...</td>\n",
       "    </tr>\n",
       "    <tr>\n",
       "      <th>2</th>\n",
       "      <td>2</td>\n",
       "      <td>2017-01-23</td>\n",
       "      <td>Between 3 million and 5 million illegal votes ...</td>\n",
       "      <td>There's no evidence of illegal voting.</td>\n",
       "      <td>https://www.nytimes.com/2017/01/23/us/politics...</td>\n",
       "    </tr>\n",
       "    <tr>\n",
       "      <th>3</th>\n",
       "      <td>3</td>\n",
       "      <td>2017-01-25</td>\n",
       "      <td>Now, the audience was the biggest ever. But th...</td>\n",
       "      <td>Official aerial photos show Obama's 2009 inaug...</td>\n",
       "      <td>https://www.nytimes.com/2017/01/21/us/politics...</td>\n",
       "    </tr>\n",
       "    <tr>\n",
       "      <th>4</th>\n",
       "      <td>4</td>\n",
       "      <td>2017-01-25</td>\n",
       "      <td>Take a look at the Pew reports (which show vot...</td>\n",
       "      <td>The report never mentioned voter fraud.</td>\n",
       "      <td>https://www.nytimes.com/2017/01/24/us/politics...</td>\n",
       "    </tr>\n",
       "  </tbody>\n",
       "</table>\n",
       "</div>"
      ],
      "text/plain": [
       "   Unnamed: 0        date                                          Trump lie  \\\n",
       "0           0  2017-01-21  I wasn't a fan of Iraq. I didn't want to go in...   \n",
       "1           1  2017-01-21  A reporter for Time magazine — and I have been...   \n",
       "2           2  2017-01-23  Between 3 million and 5 million illegal votes ...   \n",
       "3           3  2017-01-25  Now, the audience was the biggest ever. But th...   \n",
       "4           4  2017-01-25  Take a look at the Pew reports (which show vot...   \n",
       "\n",
       "                                         Explanation  \\\n",
       "0   He was for an invasion before he was against it.   \n",
       "1  Trump was on the cover 11 times and Nixon appe...   \n",
       "2             There's no evidence of illegal voting.   \n",
       "3  Official aerial photos show Obama's 2009 inaug...   \n",
       "4            The report never mentioned voter fraud.   \n",
       "\n",
       "                                               Links  \n",
       "0  https://www.buzzfeed.com/andrewkaczynski/in-20...  \n",
       "1  http://nation.time.com/2013/11/06/10-things-yo...  \n",
       "2  https://www.nytimes.com/2017/01/23/us/politics...  \n",
       "3  https://www.nytimes.com/2017/01/21/us/politics...  \n",
       "4  https://www.nytimes.com/2017/01/24/us/politics...  "
      ]
     },
     "execution_count": 188,
     "metadata": {},
     "output_type": "execute_result"
    }
   ],
   "source": [
    "df = pd.read_csv('Trump Lie.csv')\n",
    "df.head()"
   ]
  },
  {
   "cell_type": "code",
   "execution_count": 189,
   "metadata": {
    "scrolled": true
   },
   "outputs": [
    {
     "data": {
      "text/plain": [
       "180"
      ]
     },
     "execution_count": 189,
     "metadata": {},
     "output_type": "execute_result"
    }
   ],
   "source": [
    "x = df.date.value_counts().sum()\n",
    "x"
   ]
  },
  {
   "cell_type": "code",
   "execution_count": 190,
   "metadata": {},
   "outputs": [],
   "source": [
    "# Start index from 1 in DataFrame\n",
    "df.index += 1"
   ]
  },
  {
   "cell_type": "code",
   "execution_count": 191,
   "metadata": {
    "scrolled": true
   },
   "outputs": [
    {
     "data": {
      "text/html": [
       "<div>\n",
       "<style scoped>\n",
       "    .dataframe tbody tr th:only-of-type {\n",
       "        vertical-align: middle;\n",
       "    }\n",
       "\n",
       "    .dataframe tbody tr th {\n",
       "        vertical-align: top;\n",
       "    }\n",
       "\n",
       "    .dataframe thead th {\n",
       "        text-align: right;\n",
       "    }\n",
       "</style>\n",
       "<table border=\"1\" class=\"dataframe\">\n",
       "  <thead>\n",
       "    <tr style=\"text-align: right;\">\n",
       "      <th></th>\n",
       "      <th>Unnamed: 0</th>\n",
       "      <th>date</th>\n",
       "      <th>Trump lie</th>\n",
       "      <th>Explanation</th>\n",
       "      <th>Links</th>\n",
       "    </tr>\n",
       "  </thead>\n",
       "  <tbody>\n",
       "    <tr>\n",
       "      <th>1</th>\n",
       "      <td>0</td>\n",
       "      <td>2017-01-21</td>\n",
       "      <td>I wasn't a fan of Iraq. I didn't want to go in...</td>\n",
       "      <td>He was for an invasion before he was against it.</td>\n",
       "      <td>https://www.buzzfeed.com/andrewkaczynski/in-20...</td>\n",
       "    </tr>\n",
       "    <tr>\n",
       "      <th>2</th>\n",
       "      <td>1</td>\n",
       "      <td>2017-01-21</td>\n",
       "      <td>A reporter for Time magazine — and I have been...</td>\n",
       "      <td>Trump was on the cover 11 times and Nixon appe...</td>\n",
       "      <td>http://nation.time.com/2013/11/06/10-things-yo...</td>\n",
       "    </tr>\n",
       "    <tr>\n",
       "      <th>3</th>\n",
       "      <td>2</td>\n",
       "      <td>2017-01-23</td>\n",
       "      <td>Between 3 million and 5 million illegal votes ...</td>\n",
       "      <td>There's no evidence of illegal voting.</td>\n",
       "      <td>https://www.nytimes.com/2017/01/23/us/politics...</td>\n",
       "    </tr>\n",
       "    <tr>\n",
       "      <th>4</th>\n",
       "      <td>3</td>\n",
       "      <td>2017-01-25</td>\n",
       "      <td>Now, the audience was the biggest ever. But th...</td>\n",
       "      <td>Official aerial photos show Obama's 2009 inaug...</td>\n",
       "      <td>https://www.nytimes.com/2017/01/21/us/politics...</td>\n",
       "    </tr>\n",
       "    <tr>\n",
       "      <th>5</th>\n",
       "      <td>4</td>\n",
       "      <td>2017-01-25</td>\n",
       "      <td>Take a look at the Pew reports (which show vot...</td>\n",
       "      <td>The report never mentioned voter fraud.</td>\n",
       "      <td>https://www.nytimes.com/2017/01/24/us/politics...</td>\n",
       "    </tr>\n",
       "  </tbody>\n",
       "</table>\n",
       "</div>"
      ],
      "text/plain": [
       "   Unnamed: 0        date                                          Trump lie  \\\n",
       "1           0  2017-01-21  I wasn't a fan of Iraq. I didn't want to go in...   \n",
       "2           1  2017-01-21  A reporter for Time magazine — and I have been...   \n",
       "3           2  2017-01-23  Between 3 million and 5 million illegal votes ...   \n",
       "4           3  2017-01-25  Now, the audience was the biggest ever. But th...   \n",
       "5           4  2017-01-25  Take a look at the Pew reports (which show vot...   \n",
       "\n",
       "                                         Explanation  \\\n",
       "1   He was for an invasion before he was against it.   \n",
       "2  Trump was on the cover 11 times and Nixon appe...   \n",
       "3             There's no evidence of illegal voting.   \n",
       "4  Official aerial photos show Obama's 2009 inaug...   \n",
       "5            The report never mentioned voter fraud.   \n",
       "\n",
       "                                               Links  \n",
       "1  https://www.buzzfeed.com/andrewkaczynski/in-20...  \n",
       "2  http://nation.time.com/2013/11/06/10-things-yo...  \n",
       "3  https://www.nytimes.com/2017/01/23/us/politics...  \n",
       "4  https://www.nytimes.com/2017/01/21/us/politics...  \n",
       "5  https://www.nytimes.com/2017/01/24/us/politics...  "
      ]
     },
     "execution_count": 191,
     "metadata": {},
     "output_type": "execute_result"
    }
   ],
   "source": [
    "df.head()"
   ]
  },
  {
   "cell_type": "code",
   "execution_count": 192,
   "metadata": {},
   "outputs": [],
   "source": [
    "# Deleting unwanted columne\n",
    "df.drop(columns=[\"Unnamed: 0\"],inplace=True)"
   ]
  },
  {
   "cell_type": "code",
   "execution_count": 193,
   "metadata": {},
   "outputs": [
    {
     "data": {
      "text/html": [
       "<div>\n",
       "<style scoped>\n",
       "    .dataframe tbody tr th:only-of-type {\n",
       "        vertical-align: middle;\n",
       "    }\n",
       "\n",
       "    .dataframe tbody tr th {\n",
       "        vertical-align: top;\n",
       "    }\n",
       "\n",
       "    .dataframe thead th {\n",
       "        text-align: right;\n",
       "    }\n",
       "</style>\n",
       "<table border=\"1\" class=\"dataframe\">\n",
       "  <thead>\n",
       "    <tr style=\"text-align: right;\">\n",
       "      <th></th>\n",
       "      <th>date</th>\n",
       "      <th>Trump lie</th>\n",
       "      <th>Explanation</th>\n",
       "      <th>Links</th>\n",
       "    </tr>\n",
       "  </thead>\n",
       "  <tbody>\n",
       "    <tr>\n",
       "      <th>1</th>\n",
       "      <td>2017-01-21</td>\n",
       "      <td>I wasn't a fan of Iraq. I didn't want to go in...</td>\n",
       "      <td>He was for an invasion before he was against it.</td>\n",
       "      <td>https://www.buzzfeed.com/andrewkaczynski/in-20...</td>\n",
       "    </tr>\n",
       "    <tr>\n",
       "      <th>2</th>\n",
       "      <td>2017-01-21</td>\n",
       "      <td>A reporter for Time magazine — and I have been...</td>\n",
       "      <td>Trump was on the cover 11 times and Nixon appe...</td>\n",
       "      <td>http://nation.time.com/2013/11/06/10-things-yo...</td>\n",
       "    </tr>\n",
       "    <tr>\n",
       "      <th>3</th>\n",
       "      <td>2017-01-23</td>\n",
       "      <td>Between 3 million and 5 million illegal votes ...</td>\n",
       "      <td>There's no evidence of illegal voting.</td>\n",
       "      <td>https://www.nytimes.com/2017/01/23/us/politics...</td>\n",
       "    </tr>\n",
       "    <tr>\n",
       "      <th>4</th>\n",
       "      <td>2017-01-25</td>\n",
       "      <td>Now, the audience was the biggest ever. But th...</td>\n",
       "      <td>Official aerial photos show Obama's 2009 inaug...</td>\n",
       "      <td>https://www.nytimes.com/2017/01/21/us/politics...</td>\n",
       "    </tr>\n",
       "    <tr>\n",
       "      <th>5</th>\n",
       "      <td>2017-01-25</td>\n",
       "      <td>Take a look at the Pew reports (which show vot...</td>\n",
       "      <td>The report never mentioned voter fraud.</td>\n",
       "      <td>https://www.nytimes.com/2017/01/24/us/politics...</td>\n",
       "    </tr>\n",
       "  </tbody>\n",
       "</table>\n",
       "</div>"
      ],
      "text/plain": [
       "         date                                          Trump lie  \\\n",
       "1  2017-01-21  I wasn't a fan of Iraq. I didn't want to go in...   \n",
       "2  2017-01-21  A reporter for Time magazine — and I have been...   \n",
       "3  2017-01-23  Between 3 million and 5 million illegal votes ...   \n",
       "4  2017-01-25  Now, the audience was the biggest ever. But th...   \n",
       "5  2017-01-25  Take a look at the Pew reports (which show vot...   \n",
       "\n",
       "                                         Explanation  \\\n",
       "1   He was for an invasion before he was against it.   \n",
       "2  Trump was on the cover 11 times and Nixon appe...   \n",
       "3             There's no evidence of illegal voting.   \n",
       "4  Official aerial photos show Obama's 2009 inaug...   \n",
       "5            The report never mentioned voter fraud.   \n",
       "\n",
       "                                               Links  \n",
       "1  https://www.buzzfeed.com/andrewkaczynski/in-20...  \n",
       "2  http://nation.time.com/2013/11/06/10-things-yo...  \n",
       "3  https://www.nytimes.com/2017/01/23/us/politics...  \n",
       "4  https://www.nytimes.com/2017/01/21/us/politics...  \n",
       "5  https://www.nytimes.com/2017/01/24/us/politics...  "
      ]
     },
     "execution_count": 193,
     "metadata": {},
     "output_type": "execute_result"
    }
   ],
   "source": [
    "df.head()"
   ]
  },
  {
   "cell_type": "code",
   "execution_count": 55,
   "metadata": {},
   "outputs": [],
   "source": [
    "import seaborn as sns\n",
    "import matplotlib.pyplot as plt"
   ]
  },
  {
   "cell_type": "code",
   "execution_count": 56,
   "metadata": {
    "scrolled": false
   },
   "outputs": [
    {
     "data": {
      "text/plain": [
       "[]"
      ]
     },
     "execution_count": 56,
     "metadata": {},
     "output_type": "execute_result"
    },
    {
     "data": {
      "image/png": "[encoded data removed]",
      "text/plain": [
       "<Figure size 1080x1080 with 1 Axes>"
      ]
     },
     "metadata": {
      "needs_background": "light"
     },
     "output_type": "display_data"
    }
   ],
   "source": [
    "plt.figure(figsize=(15,15))\n",
    "sns.countplot(data=df, y = 'date')\n",
    "plt.plot()"
   ]
  },
  {
   "cell_type": "markdown",
   "metadata": {},
   "source": [
    "- As per the graph President Trump has most lied recorded on the date 2017-04-02 and 2017-06-21"
   ]
  },
  {
   "cell_type": "code",
   "execution_count": 173,
   "metadata": {},
   "outputs": [
    {
     "data": {
      "text/html": [
       "<div>\n",
       "<style scoped>\n",
       "    .dataframe tbody tr th:only-of-type {\n",
       "        vertical-align: middle;\n",
       "    }\n",
       "\n",
       "    .dataframe tbody tr th {\n",
       "        vertical-align: top;\n",
       "    }\n",
       "\n",
       "    .dataframe thead th {\n",
       "        text-align: right;\n",
       "    }\n",
       "</style>\n",
       "<table border=\"1\" class=\"dataframe\">\n",
       "  <thead>\n",
       "    <tr style=\"text-align: right;\">\n",
       "      <th></th>\n",
       "      <th>date</th>\n",
       "      <th>Trump lie</th>\n",
       "      <th>Explanation</th>\n",
       "      <th>Links</th>\n",
       "    </tr>\n",
       "  </thead>\n",
       "  <tbody>\n",
       "    <tr>\n",
       "      <th>57</th>\n",
       "      <td>2017-04-02</td>\n",
       "      <td>And I was totally opposed to the war in the Mi...</td>\n",
       "      <td>He was for an invasion before he was against it.</td>\n",
       "      <td>https://www.buzzfeed.com/andrewkaczynski/in-20...</td>\n",
       "    </tr>\n",
       "    <tr>\n",
       "      <th>58</th>\n",
       "      <td>2017-04-02</td>\n",
       "      <td>Now, my last tweet — you know, the one that yo...</td>\n",
       "      <td>There is still no evidence.</td>\n",
       "      <td>https://www.nytimes.com/2017/03/04/us/politics...</td>\n",
       "    </tr>\n",
       "    <tr>\n",
       "      <th>68</th>\n",
       "      <td>2017-04-02</td>\n",
       "      <td>On 90 planes I saved $725 million. It's actual...</td>\n",
       "      <td>Much of the price cuts were already projected.</td>\n",
       "      <td>https://www.washingtonpost.com/news/fact-check...</td>\n",
       "    </tr>\n",
       "    <tr>\n",
       "      <th>69</th>\n",
       "      <td>2017-04-02</td>\n",
       "      <td>When WikiLeaks came out ... never heard of Wik...</td>\n",
       "      <td>He criticized it as early as 2010.</td>\n",
       "      <td>https://www.washingtonpost.com/news/fact-check...</td>\n",
       "    </tr>\n",
       "    <tr>\n",
       "      <th>70</th>\n",
       "      <td>2017-04-02</td>\n",
       "      <td>I want to help our miners while the Democrats ...</td>\n",
       "      <td>The bill to extend health benefits for certain...</td>\n",
       "      <td>http://www.pbs.org/newshour/rundown/retired-co...</td>\n",
       "    </tr>\n",
       "    <tr>\n",
       "      <th>71</th>\n",
       "      <td>2017-04-02</td>\n",
       "      <td>The trade deficit with Mexico is close to $70 ...</td>\n",
       "      <td>The U.S. had an $8.1 billion trade surplus, no...</td>\n",
       "      <td>http://www.factcheck.org/2017/05/trumps-100-da...</td>\n",
       "    </tr>\n",
       "    <tr>\n",
       "      <th>72</th>\n",
       "      <td>2017-04-02</td>\n",
       "      <td>She's running against someone who's going to r...</td>\n",
       "      <td>Those are not Jon Ossoff's positions.</td>\n",
       "      <td>http://www.mdjonline.com/opinion/jon-ossoff-vo...</td>\n",
       "    </tr>\n",
       "    <tr>\n",
       "      <th>73</th>\n",
       "      <td>2017-04-02</td>\n",
       "      <td>The F-35 fighter jet program — it was way over...</td>\n",
       "      <td>Much of the price cuts were planned before Trump.</td>\n",
       "      <td>https://www.washingtonpost.com/news/fact-check...</td>\n",
       "    </tr>\n",
       "    <tr>\n",
       "      <th>74</th>\n",
       "      <td>2017-04-02</td>\n",
       "      <td>As you know, I've been a big critic of China, ...</td>\n",
       "      <td>China stopped years ago.</td>\n",
       "      <td>https://www.nytimes.com/2017/04/07/world/asia/...</td>\n",
       "    </tr>\n",
       "    <tr>\n",
       "      <th>75</th>\n",
       "      <td>2017-04-02</td>\n",
       "      <td>I've already saved more than $725 million on a...</td>\n",
       "      <td>Much of the price cuts were planned before Trump.</td>\n",
       "      <td>https://www.washingtonpost.com/news/fact-check...</td>\n",
       "    </tr>\n",
       "    <tr>\n",
       "      <th>76</th>\n",
       "      <td>2017-04-02</td>\n",
       "      <td>We're also getting NATO countries to finally s...</td>\n",
       "      <td>The deal was struck in 2014.</td>\n",
       "      <td>https://www.nytimes.com/2017/03/01/us/politics...</td>\n",
       "    </tr>\n",
       "    <tr>\n",
       "      <th>77</th>\n",
       "      <td>2017-04-02</td>\n",
       "      <td>When they talk about currency manipulation, an...</td>\n",
       "      <td>China stopped in 2014.</td>\n",
       "      <td>https://www.nytimes.com/2017/04/07/world/asia/...</td>\n",
       "    </tr>\n",
       "    <tr>\n",
       "      <th>78</th>\n",
       "      <td>2017-04-02</td>\n",
       "      <td>I was negotiating to reduce the price of the b...</td>\n",
       "      <td>Most of the cuts were planned before Trump.</td>\n",
       "      <td>https://www.washingtonpost.com/news/fact-check...</td>\n",
       "    </tr>\n",
       "    <tr>\n",
       "      <th>79</th>\n",
       "      <td>2017-04-02</td>\n",
       "      <td>I think our side's been proven very strongly. ...</td>\n",
       "      <td>There's still no evidence Trump's phones were ...</td>\n",
       "      <td>https://www.nytimes.com/2017/03/20/us/politics...</td>\n",
       "    </tr>\n",
       "  </tbody>\n",
       "</table>\n",
       "</div>"
      ],
      "text/plain": [
       "          date                                          Trump lie  \\\n",
       "57  2017-04-02  And I was totally opposed to the war in the Mi...   \n",
       "58  2017-04-02  Now, my last tweet — you know, the one that yo...   \n",
       "68  2017-04-02  On 90 planes I saved $725 million. It's actual...   \n",
       "69  2017-04-02  When WikiLeaks came out ... never heard of Wik...   \n",
       "70  2017-04-02  I want to help our miners while the Democrats ...   \n",
       "71  2017-04-02  The trade deficit with Mexico is close to $70 ...   \n",
       "72  2017-04-02  She's running against someone who's going to r...   \n",
       "73  2017-04-02  The F-35 fighter jet program — it was way over...   \n",
       "74  2017-04-02  As you know, I've been a big critic of China, ...   \n",
       "75  2017-04-02  I've already saved more than $725 million on a...   \n",
       "76  2017-04-02  We're also getting NATO countries to finally s...   \n",
       "77  2017-04-02  When they talk about currency manipulation, an...   \n",
       "78  2017-04-02  I was negotiating to reduce the price of the b...   \n",
       "79  2017-04-02  I think our side's been proven very strongly. ...   \n",
       "\n",
       "                                          Explanation  \\\n",
       "57   He was for an invasion before he was against it.   \n",
       "58                        There is still no evidence.   \n",
       "68     Much of the price cuts were already projected.   \n",
       "69                 He criticized it as early as 2010.   \n",
       "70  The bill to extend health benefits for certain...   \n",
       "71  The U.S. had an $8.1 billion trade surplus, no...   \n",
       "72              Those are not Jon Ossoff's positions.   \n",
       "73  Much of the price cuts were planned before Trump.   \n",
       "74                           China stopped years ago.   \n",
       "75  Much of the price cuts were planned before Trump.   \n",
       "76                       The deal was struck in 2014.   \n",
       "77                             China stopped in 2014.   \n",
       "78        Most of the cuts were planned before Trump.   \n",
       "79  There's still no evidence Trump's phones were ...   \n",
       "\n",
       "                                                Links  \n",
       "57  https://www.buzzfeed.com/andrewkaczynski/in-20...  \n",
       "58  https://www.nytimes.com/2017/03/04/us/politics...  \n",
       "68  https://www.washingtonpost.com/news/fact-check...  \n",
       "69  https://www.washingtonpost.com/news/fact-check...  \n",
       "70  http://www.pbs.org/newshour/rundown/retired-co...  \n",
       "71  http://www.factcheck.org/2017/05/trumps-100-da...  \n",
       "72  http://www.mdjonline.com/opinion/jon-ossoff-vo...  \n",
       "73  https://www.washingtonpost.com/news/fact-check...  \n",
       "74  https://www.nytimes.com/2017/04/07/world/asia/...  \n",
       "75  https://www.washingtonpost.com/news/fact-check...  \n",
       "76  https://www.nytimes.com/2017/03/01/us/politics...  \n",
       "77  https://www.nytimes.com/2017/04/07/world/asia/...  \n",
       "78  https://www.washingtonpost.com/news/fact-check...  \n",
       "79  https://www.nytimes.com/2017/03/20/us/politics...  "
      ]
     },
     "execution_count": 173,
     "metadata": {},
     "output_type": "execute_result"
    }
   ],
   "source": [
    "# President Trump most lies in a  single month of april\n",
    "df[df.date.str.contains('2017-04-02')]"
   ]
  },
  {
   "cell_type": "code",
   "execution_count": 57,
   "metadata": {},
   "outputs": [
    {
     "data": {
      "text/html": [
       "<div>\n",
       "<style scoped>\n",
       "    .dataframe tbody tr th:only-of-type {\n",
       "        vertical-align: middle;\n",
       "    }\n",
       "\n",
       "    .dataframe tbody tr th {\n",
       "        vertical-align: top;\n",
       "    }\n",
       "\n",
       "    .dataframe thead th {\n",
       "        text-align: right;\n",
       "    }\n",
       "</style>\n",
       "<table border=\"1\" class=\"dataframe\">\n",
       "  <thead>\n",
       "    <tr style=\"text-align: right;\">\n",
       "      <th></th>\n",
       "      <th>Unnamed: 0</th>\n",
       "    </tr>\n",
       "  </thead>\n",
       "  <tbody>\n",
       "    <tr>\n",
       "      <th>count</th>\n",
       "      <td>180.000000</td>\n",
       "    </tr>\n",
       "    <tr>\n",
       "      <th>mean</th>\n",
       "      <td>89.500000</td>\n",
       "    </tr>\n",
       "    <tr>\n",
       "      <th>std</th>\n",
       "      <td>52.105662</td>\n",
       "    </tr>\n",
       "    <tr>\n",
       "      <th>min</th>\n",
       "      <td>0.000000</td>\n",
       "    </tr>\n",
       "    <tr>\n",
       "      <th>25%</th>\n",
       "      <td>44.750000</td>\n",
       "    </tr>\n",
       "    <tr>\n",
       "      <th>50%</th>\n",
       "      <td>89.500000</td>\n",
       "    </tr>\n",
       "    <tr>\n",
       "      <th>75%</th>\n",
       "      <td>134.250000</td>\n",
       "    </tr>\n",
       "    <tr>\n",
       "      <th>max</th>\n",
       "      <td>179.000000</td>\n",
       "    </tr>\n",
       "  </tbody>\n",
       "</table>\n",
       "</div>"
      ],
      "text/plain": [
       "       Unnamed: 0\n",
       "count  180.000000\n",
       "mean    89.500000\n",
       "std     52.105662\n",
       "min      0.000000\n",
       "25%     44.750000\n",
       "50%     89.500000\n",
       "75%    134.250000\n",
       "max    179.000000"
      ]
     },
     "execution_count": 57,
     "metadata": {},
     "output_type": "execute_result"
    }
   ],
   "source": [
    "df.describe()"
   ]
  },
  {
   "cell_type": "code",
   "execution_count": 58,
   "metadata": {
    "scrolled": false
   },
   "outputs": [
    {
     "data": {
      "text/html": [
       "<div>\n",
       "<style scoped>\n",
       "    .dataframe tbody tr th:only-of-type {\n",
       "        vertical-align: middle;\n",
       "    }\n",
       "\n",
       "    .dataframe tbody tr th {\n",
       "        vertical-align: top;\n",
       "    }\n",
       "\n",
       "    .dataframe thead th {\n",
       "        text-align: right;\n",
       "    }\n",
       "</style>\n",
       "<table border=\"1\" class=\"dataframe\">\n",
       "  <thead>\n",
       "    <tr style=\"text-align: right;\">\n",
       "      <th></th>\n",
       "      <th>Unnamed: 0</th>\n",
       "      <th>date</th>\n",
       "      <th>Trump lie</th>\n",
       "      <th>Explanation</th>\n",
       "      <th>Links</th>\n",
       "    </tr>\n",
       "  </thead>\n",
       "  <tbody>\n",
       "    <tr>\n",
       "      <th>1</th>\n",
       "      <td>0</td>\n",
       "      <td>2017-01-21</td>\n",
       "      <td>I wasn't a fan of Iraq. I didn't want to go in...</td>\n",
       "      <td>He was for an invasion before he was against it.</td>\n",
       "      <td>https://www.buzzfeed.com/andrewkaczynski/in-20...</td>\n",
       "    </tr>\n",
       "    <tr>\n",
       "      <th>2</th>\n",
       "      <td>1</td>\n",
       "      <td>2017-01-21</td>\n",
       "      <td>A reporter for Time magazine — and I have been...</td>\n",
       "      <td>Trump was on the cover 11 times and Nixon appe...</td>\n",
       "      <td>http://nation.time.com/2013/11/06/10-things-yo...</td>\n",
       "    </tr>\n",
       "  </tbody>\n",
       "</table>\n",
       "</div>"
      ],
      "text/plain": [
       "   Unnamed: 0        date                                          Trump lie  \\\n",
       "1           0  2017-01-21  I wasn't a fan of Iraq. I didn't want to go in...   \n",
       "2           1  2017-01-21  A reporter for Time magazine — and I have been...   \n",
       "\n",
       "                                         Explanation  \\\n",
       "1   He was for an invasion before he was against it.   \n",
       "2  Trump was on the cover 11 times and Nixon appe...   \n",
       "\n",
       "                                               Links  \n",
       "1  https://www.buzzfeed.com/andrewkaczynski/in-20...  \n",
       "2  http://nation.time.com/2013/11/06/10-things-yo...  "
      ]
     },
     "execution_count": 58,
     "metadata": {},
     "output_type": "execute_result"
    }
   ],
   "source": [
    "df.head(2)"
   ]
  },
  {
   "cell_type": "code",
   "execution_count": 77,
   "metadata": {},
   "outputs": [
    {
     "data": {
      "text/plain": [
       "176    https://www.bea.gov/newsreleases/international...\n",
       "177    https://www.opensecrets.org/donor-lookup/resul...\n",
       "178    http://www.politifact.com/truth-o-meter/statem...\n",
       "179    http://www.politifact.com/truth-o-meter/statem...\n",
       "180    https://www.nytimes.com/interactive/2017/12/10...\n",
       "Name: Links, dtype: object"
      ]
     },
     "execution_count": 77,
     "metadata": {},
     "output_type": "execute_result"
    }
   ],
   "source": [
    "df.Links.tail()"
   ]
  },
  {
   "cell_type": "code",
   "execution_count": 73,
   "metadata": {
    "scrolled": true
   },
   "outputs": [
    {
     "data": {
      "text/html": [
       "<div>\n",
       "<style scoped>\n",
       "    .dataframe tbody tr th:only-of-type {\n",
       "        vertical-align: middle;\n",
       "    }\n",
       "\n",
       "    .dataframe tbody tr th {\n",
       "        vertical-align: top;\n",
       "    }\n",
       "\n",
       "    .dataframe thead th {\n",
       "        text-align: right;\n",
       "    }\n",
       "</style>\n",
       "<table border=\"1\" class=\"dataframe\">\n",
       "  <thead>\n",
       "    <tr style=\"text-align: right;\">\n",
       "      <th></th>\n",
       "      <th>Unnamed: 0</th>\n",
       "      <th>date</th>\n",
       "      <th>Trump lie</th>\n",
       "      <th>Explanation</th>\n",
       "      <th>Links</th>\n",
       "    </tr>\n",
       "  </thead>\n",
       "  <tbody>\n",
       "    <tr>\n",
       "      <th>3</th>\n",
       "      <td>2</td>\n",
       "      <td>2017-01-23</td>\n",
       "      <td>Between 3 million and 5 million illegal votes ...</td>\n",
       "      <td>There's no evidence of illegal voting.</td>\n",
       "      <td>https://www.nytimes.com/2017/01/23/us/politics...</td>\n",
       "    </tr>\n",
       "    <tr>\n",
       "      <th>4</th>\n",
       "      <td>3</td>\n",
       "      <td>2017-01-25</td>\n",
       "      <td>Now, the audience was the biggest ever. But th...</td>\n",
       "      <td>Official aerial photos show Obama's 2009 inaug...</td>\n",
       "      <td>https://www.nytimes.com/2017/01/21/us/politics...</td>\n",
       "    </tr>\n",
       "    <tr>\n",
       "      <th>5</th>\n",
       "      <td>4</td>\n",
       "      <td>2017-01-25</td>\n",
       "      <td>Take a look at the Pew reports (which show vot...</td>\n",
       "      <td>The report never mentioned voter fraud.</td>\n",
       "      <td>https://www.nytimes.com/2017/01/24/us/politics...</td>\n",
       "    </tr>\n",
       "    <tr>\n",
       "      <th>6</th>\n",
       "      <td>5</td>\n",
       "      <td>2017-01-25</td>\n",
       "      <td>You had millions of people that now aren't ins...</td>\n",
       "      <td>The real number is less than 1 million, accord...</td>\n",
       "      <td>https://www.nytimes.com/2017/03/13/us/politics...</td>\n",
       "    </tr>\n",
       "    <tr>\n",
       "      <th>8</th>\n",
       "      <td>7</td>\n",
       "      <td>2017-01-26</td>\n",
       "      <td>We've taken in tens of thousands of people. We...</td>\n",
       "      <td>Vetting lasts up to two years.</td>\n",
       "      <td>https://www.nytimes.com/interactive/2017/01/29...</td>\n",
       "    </tr>\n",
       "    <tr>\n",
       "      <th>10</th>\n",
       "      <td>9</td>\n",
       "      <td>2017-01-28</td>\n",
       "      <td>The coverage about me in the @nytimes and the ...</td>\n",
       "      <td>It never apologized.</td>\n",
       "      <td>https://www.nytimes.com/2016/11/13/us/election...</td>\n",
       "    </tr>\n",
       "    <tr>\n",
       "      <th>12</th>\n",
       "      <td>11</td>\n",
       "      <td>2017-01-30</td>\n",
       "      <td>Only 109 people out of 325,000 were detained a...</td>\n",
       "      <td>At least 746 people were detained and processe...</td>\n",
       "      <td>http://markets.on.nytimes.com/research/stocks/...</td>\n",
       "    </tr>\n",
       "    <tr>\n",
       "      <th>13</th>\n",
       "      <td>12</td>\n",
       "      <td>2017-02-03</td>\n",
       "      <td>Professional anarchists, thugs and paid protes...</td>\n",
       "      <td>There is no evidence of paid protesters.</td>\n",
       "      <td>https://www.nytimes.com/2017/01/28/nyregion/jf...</td>\n",
       "    </tr>\n",
       "    <tr>\n",
       "      <th>14</th>\n",
       "      <td>13</td>\n",
       "      <td>2017-02-04</td>\n",
       "      <td>After being forced to apologize for its bad an...</td>\n",
       "      <td>It never apologized.</td>\n",
       "      <td>https://www.nytimes.com/2016/11/13/us/election...</td>\n",
       "    </tr>\n",
       "    <tr>\n",
       "      <th>17</th>\n",
       "      <td>16</td>\n",
       "      <td>2017-02-06</td>\n",
       "      <td>It's gotten to a point where it is not even be...</td>\n",
       "      <td>Terrorism has been reported on, often in detail.</td>\n",
       "      <td>https://www.nytimes.com/2017/02/07/us/politics...</td>\n",
       "    </tr>\n",
       "    <tr>\n",
       "      <th>18</th>\n",
       "      <td>17</td>\n",
       "      <td>2017-02-06</td>\n",
       "      <td>The failing @nytimes was forced to apologize t...</td>\n",
       "      <td>It didn't apologize.</td>\n",
       "      <td>https://www.nytimes.com/2016/11/13/us/election...</td>\n",
       "    </tr>\n",
       "    <tr>\n",
       "      <th>19</th>\n",
       "      <td>18</td>\n",
       "      <td>2017-02-06</td>\n",
       "      <td>And the previous administration allowed it to ...</td>\n",
       "      <td>The group’s origins date to 2004.</td>\n",
       "      <td>https://www.nytimes.com/2015/11/19/world/middl...</td>\n",
       "    </tr>\n",
       "    <tr>\n",
       "      <th>26</th>\n",
       "      <td>25</td>\n",
       "      <td>2017-02-16</td>\n",
       "      <td>We got 306 because people came out and voted l...</td>\n",
       "      <td>George H.W. Bush, Bill Clinton and Barack Obam...</td>\n",
       "      <td>https://www.nytimes.com/2017/02/16/us/politics...</td>\n",
       "    </tr>\n",
       "    <tr>\n",
       "      <th>28</th>\n",
       "      <td>27</td>\n",
       "      <td>2017-02-16</td>\n",
       "      <td>Walmart announced it will create 10,000 jobs i...</td>\n",
       "      <td>The jobs are a result of its investment plans ...</td>\n",
       "      <td>https://www.nytimes.com/interactive/2017/busin...</td>\n",
       "    </tr>\n",
       "    <tr>\n",
       "      <th>32</th>\n",
       "      <td>31</td>\n",
       "      <td>2017-02-18</td>\n",
       "      <td>And there was no way to vet those people. Ther...</td>\n",
       "      <td>Refugees receive multiple background checks, t...</td>\n",
       "      <td>https://www.nytimes.com/interactive/2017/01/29...</td>\n",
       "    </tr>\n",
       "    <tr>\n",
       "      <th>33</th>\n",
       "      <td>32</td>\n",
       "      <td>2017-02-18</td>\n",
       "      <td>You look at what's happening in Germany, you l...</td>\n",
       "      <td>Trump implied there was a terror attack in Swe...</td>\n",
       "      <td>https://www.nytimes.com/2017/02/19/world/europ...</td>\n",
       "    </tr>\n",
       "    <tr>\n",
       "      <th>36</th>\n",
       "      <td>35</td>\n",
       "      <td>2017-02-24</td>\n",
       "      <td>Obamacare covers very few people — and remembe...</td>\n",
       "      <td>Obamacare increased coverage by a net of about...</td>\n",
       "      <td>https://www.nytimes.com/2017/02/24/us/politics...</td>\n",
       "    </tr>\n",
       "    <tr>\n",
       "      <th>39</th>\n",
       "      <td>38</td>\n",
       "      <td>2017-02-28</td>\n",
       "      <td>And now, based on our very strong and frank di...</td>\n",
       "      <td>NATO countries agreed to meet defense spending...</td>\n",
       "      <td>https://www.nytimes.com/2017/03/01/us/politics...</td>\n",
       "    </tr>\n",
       "    <tr>\n",
       "      <th>40</th>\n",
       "      <td>39</td>\n",
       "      <td>2017-02-28</td>\n",
       "      <td>The E.P.A.’s regulators were putting people ou...</td>\n",
       "      <td>There's no evidence that the Waters of the Uni...</td>\n",
       "      <td>http://www.nytimes.com/2011/09/05/business/eco...</td>\n",
       "    </tr>\n",
       "    <tr>\n",
       "      <th>43</th>\n",
       "      <td>42</td>\n",
       "      <td>2017-03-04</td>\n",
       "      <td>Terrible! Just found out that Obama had my ‘wi...</td>\n",
       "      <td>There's no evidence of a wiretap.</td>\n",
       "      <td>https://www.nytimes.com/2017/03/04/us/politics...</td>\n",
       "    </tr>\n",
       "    <tr>\n",
       "      <th>44</th>\n",
       "      <td>43</td>\n",
       "      <td>2017-03-04</td>\n",
       "      <td>How low has President Obama gone to tap my pho...</td>\n",
       "      <td>There's no evidence of a wiretap.</td>\n",
       "      <td>https://www.nytimes.com/2017/03/04/us/politics...</td>\n",
       "    </tr>\n",
       "    <tr>\n",
       "      <th>45</th>\n",
       "      <td>44</td>\n",
       "      <td>2017-03-07</td>\n",
       "      <td>122 vicious prisoners, released by the Obama A...</td>\n",
       "      <td>113 of them were released by President George ...</td>\n",
       "      <td>https://www.nytimes.com/2017/03/07/us/politics...</td>\n",
       "    </tr>\n",
       "    <tr>\n",
       "      <th>47</th>\n",
       "      <td>46</td>\n",
       "      <td>2017-03-01</td>\n",
       "      <td>First of all, it covers very few people.</td>\n",
       "      <td>About 20 million people gained insurance under...</td>\n",
       "      <td>https://www.nytimes.com/2017/03/13/us/politics...</td>\n",
       "    </tr>\n",
       "    <tr>\n",
       "      <th>52</th>\n",
       "      <td>51</td>\n",
       "      <td>2017-03-02</td>\n",
       "      <td>I make the statement, everyone goes crazy. The...</td>\n",
       "      <td>Riots in Sweden broke out two days later and t...</td>\n",
       "      <td>https://www.nytimes.com/2017/02/19/world/europ...</td>\n",
       "    </tr>\n",
       "    <tr>\n",
       "      <th>54</th>\n",
       "      <td>53</td>\n",
       "      <td>2017-03-02</td>\n",
       "      <td>Well, now, if you take a look at the votes, wh...</td>\n",
       "      <td>There's no evidence of widespread voter fraud.</td>\n",
       "      <td>https://www.nytimes.com/2017/01/24/us/politics...</td>\n",
       "    </tr>\n",
       "    <tr>\n",
       "      <th>55</th>\n",
       "      <td>54</td>\n",
       "      <td>2017-03-02</td>\n",
       "      <td>Remember when the failing @nytimes apologized ...</td>\n",
       "      <td>It didn't apologize.</td>\n",
       "      <td>https://www.nytimes.com/2016/11/13/us/election...</td>\n",
       "    </tr>\n",
       "    <tr>\n",
       "      <th>56</th>\n",
       "      <td>55</td>\n",
       "      <td>2017-03-03</td>\n",
       "      <td>We have a lot of plants going up now in Michig...</td>\n",
       "      <td>These investments were already planned.</td>\n",
       "      <td>https://www.nytimes.com/interactive/2017/busin...</td>\n",
       "    </tr>\n",
       "    <tr>\n",
       "      <th>58</th>\n",
       "      <td>57</td>\n",
       "      <td>2017-04-02</td>\n",
       "      <td>Now, my last tweet — you know, the one that yo...</td>\n",
       "      <td>There is still no evidence.</td>\n",
       "      <td>https://www.nytimes.com/2017/03/04/us/politics...</td>\n",
       "    </tr>\n",
       "    <tr>\n",
       "      <th>59</th>\n",
       "      <td>58</td>\n",
       "      <td>2017-04-05</td>\n",
       "      <td>You have many states coming up where they’re g...</td>\n",
       "      <td>Every marketplace region in Tennessee had at l...</td>\n",
       "      <td>https://www.nytimes.com/2017/03/24/us/politics...</td>\n",
       "    </tr>\n",
       "    <tr>\n",
       "      <th>61</th>\n",
       "      <td>60</td>\n",
       "      <td>2017-04-01</td>\n",
       "      <td>I like Steve, but you have to remember he was ...</td>\n",
       "      <td>He knew Steve Bannon since 2011.</td>\n",
       "      <td>https://www.nytimes.com/2017/04/12/us/politics...</td>\n",
       "    </tr>\n",
       "    <tr>\n",
       "      <th>62</th>\n",
       "      <td>61</td>\n",
       "      <td>2017-04-01</td>\n",
       "      <td>You can't do it faster, because they're obstru...</td>\n",
       "      <td>At this point, he had not nominated anyone for...</td>\n",
       "      <td>https://www.nytimes.com/2017/04/12/us/politics...</td>\n",
       "    </tr>\n",
       "    <tr>\n",
       "      <th>63</th>\n",
       "      <td>62</td>\n",
       "      <td>2017-04-01</td>\n",
       "      <td>The New York Times said the word wiretapped in...</td>\n",
       "      <td>There were separate headlines for print and we...</td>\n",
       "      <td>https://www.nytimes.com/2017/03/23/us/politics...</td>\n",
       "    </tr>\n",
       "    <tr>\n",
       "      <th>64</th>\n",
       "      <td>63</td>\n",
       "      <td>2017-04-01</td>\n",
       "      <td>The secretary general and I had a productive d...</td>\n",
       "      <td>NATO has been engaged in counterterrorism effo...</td>\n",
       "      <td>https://www.nytimes.com/2017/04/12/us/politics...</td>\n",
       "    </tr>\n",
       "    <tr>\n",
       "      <th>66</th>\n",
       "      <td>65</td>\n",
       "      <td>2017-04-01</td>\n",
       "      <td>Someone should look into who paid for the smal...</td>\n",
       "      <td>There's no evidence of paid protesters.</td>\n",
       "      <td>https://www.nytimes.com/2017/04/15/us/politics...</td>\n",
       "    </tr>\n",
       "    <tr>\n",
       "      <th>67</th>\n",
       "      <td>66</td>\n",
       "      <td>2017-04-01</td>\n",
       "      <td>The fake media goes, ‘Donald Trump changed his...</td>\n",
       "      <td>He did.</td>\n",
       "      <td>https://www.nytimes.com/2017/04/14/business/ch...</td>\n",
       "    </tr>\n",
       "    <tr>\n",
       "      <th>74</th>\n",
       "      <td>73</td>\n",
       "      <td>2017-04-02</td>\n",
       "      <td>As you know, I've been a big critic of China, ...</td>\n",
       "      <td>China stopped years ago.</td>\n",
       "      <td>https://www.nytimes.com/2017/04/07/world/asia/...</td>\n",
       "    </tr>\n",
       "    <tr>\n",
       "      <th>76</th>\n",
       "      <td>75</td>\n",
       "      <td>2017-04-02</td>\n",
       "      <td>We're also getting NATO countries to finally s...</td>\n",
       "      <td>The deal was struck in 2014.</td>\n",
       "      <td>https://www.nytimes.com/2017/03/01/us/politics...</td>\n",
       "    </tr>\n",
       "    <tr>\n",
       "      <th>77</th>\n",
       "      <td>76</td>\n",
       "      <td>2017-04-02</td>\n",
       "      <td>When they talk about currency manipulation, an...</td>\n",
       "      <td>China stopped in 2014.</td>\n",
       "      <td>https://www.nytimes.com/2017/04/07/world/asia/...</td>\n",
       "    </tr>\n",
       "    <tr>\n",
       "      <th>79</th>\n",
       "      <td>78</td>\n",
       "      <td>2017-04-02</td>\n",
       "      <td>I think our side's been proven very strongly. ...</td>\n",
       "      <td>There's still no evidence Trump's phones were ...</td>\n",
       "      <td>https://www.nytimes.com/2017/03/20/us/politics...</td>\n",
       "    </tr>\n",
       "    <tr>\n",
       "      <th>80</th>\n",
       "      <td>79</td>\n",
       "      <td>2017-05-01</td>\n",
       "      <td>Well, we are protecting pre-existing condition...</td>\n",
       "      <td>The bill weakens protections for people with p...</td>\n",
       "      <td>https://www.nytimes.com/2017/04/26/upshot/what...</td>\n",
       "    </tr>\n",
       "    <tr>\n",
       "      <th>82</th>\n",
       "      <td>81</td>\n",
       "      <td>2017-05-01</td>\n",
       "      <td>First of all, since I started running, they ha...</td>\n",
       "      <td>China stopped years ago.</td>\n",
       "      <td>https://www.nytimes.com/2017/04/07/world/asia/...</td>\n",
       "    </tr>\n",
       "    <tr>\n",
       "      <th>84</th>\n",
       "      <td>83</td>\n",
       "      <td>2017-05-04</td>\n",
       "      <td>Number two, they’re actually not a currency [m...</td>\n",
       "      <td>China stopped years ago.</td>\n",
       "      <td>https://www.nytimes.com/2017/04/07/world/asia/...</td>\n",
       "    </tr>\n",
       "    <tr>\n",
       "      <th>87</th>\n",
       "      <td>86</td>\n",
       "      <td>2017-05-08</td>\n",
       "      <td>You know we’ve gotten billions of dollars more...</td>\n",
       "      <td>The deal was struck in 2014.</td>\n",
       "      <td>https://www.nytimes.com/2017/03/01/us/politics...</td>\n",
       "    </tr>\n",
       "    <tr>\n",
       "      <th>89</th>\n",
       "      <td>88</td>\n",
       "      <td>2017-05-08</td>\n",
       "      <td>Director Clapper reiterated what everybody, in...</td>\n",
       "      <td>Clapper only said he wasn't aware of an invest...</td>\n",
       "      <td>https://www.nytimes.com/2017/05/10/us/politics...</td>\n",
       "    </tr>\n",
       "    <tr>\n",
       "      <th>90</th>\n",
       "      <td>89</td>\n",
       "      <td>2017-05-12</td>\n",
       "      <td>Again, the story that there was collusion betw...</td>\n",
       "      <td>The F.B.I. was investigating before the election.</td>\n",
       "      <td>https://www.nytimes.com/interactive/2017/05/10...</td>\n",
       "    </tr>\n",
       "    <tr>\n",
       "      <th>91</th>\n",
       "      <td>90</td>\n",
       "      <td>2017-05-12</td>\n",
       "      <td>When James Clapper himself, and virtually ever...</td>\n",
       "      <td>Clapper said he wouldn't have been told of an ...</td>\n",
       "      <td>https://www.nytimes.com/2017/05/10/us/politics...</td>\n",
       "    </tr>\n",
       "    <tr>\n",
       "      <th>99</th>\n",
       "      <td>98</td>\n",
       "      <td>2017-06-21</td>\n",
       "      <td>They all say it's 'nonbinding.' Like hell it's...</td>\n",
       "      <td>The Paris climate agreement is nonbinding — an...</td>\n",
       "      <td>https://www.nytimes.com/2017/06/21/us/politics...</td>\n",
       "    </tr>\n",
       "    <tr>\n",
       "      <th>103</th>\n",
       "      <td>102</td>\n",
       "      <td>2017-06-21</td>\n",
       "      <td>If [farmers] have a puddle in the middle of th...</td>\n",
       "      <td>The Obama environmental rule to limit pollutio...</td>\n",
       "      <td>https://www.nytimes.com/2017/06/22/us/politics...</td>\n",
       "    </tr>\n",
       "    <tr>\n",
       "      <th>104</th>\n",
       "      <td>103</td>\n",
       "      <td>2017-06-21</td>\n",
       "      <td>Gary Cohn just paid $200 million in tax in ord...</td>\n",
       "      <td>Cohn sold Goldman Sachs stock worth $220 million.</td>\n",
       "      <td>https://www.nytimes.com/2017/06/22/us/politics...</td>\n",
       "    </tr>\n",
       "    <tr>\n",
       "      <th>113</th>\n",
       "      <td>112</td>\n",
       "      <td>2017-07-17</td>\n",
       "      <td>We’ve signed more bills — and I’m talking abou...</td>\n",
       "      <td>Clinton, Carter, Truman, and F.D.R. had signed...</td>\n",
       "      <td>https://www.nytimes.com/2017/07/17/us/politics...</td>\n",
       "    </tr>\n",
       "    <tr>\n",
       "      <th>115</th>\n",
       "      <td>114</td>\n",
       "      <td>2017-07-19</td>\n",
       "      <td>I heard that Harry Truman was first, and then ...</td>\n",
       "      <td>Presidents Clinton, Carter, Truman, and F.D.R....</td>\n",
       "      <td>https://www.nytimes.com/2017/07/17/us/politics...</td>\n",
       "    </tr>\n",
       "    <tr>\n",
       "      <th>122</th>\n",
       "      <td>121</td>\n",
       "      <td>2017-07-25</td>\n",
       "      <td>Since I took office we have cut illegal immigr...</td>\n",
       "      <td>The decline began before Trump's inauguration.</td>\n",
       "      <td>https://www.nytimes.com/interactive/2017/10/12...</td>\n",
       "    </tr>\n",
       "    <tr>\n",
       "      <th>148</th>\n",
       "      <td>147</td>\n",
       "      <td>2017-09-02</td>\n",
       "      <td>Facebook was always anti-Trump.The Networks we...</td>\n",
       "      <td>The Times did not apologize for its Trump cove...</td>\n",
       "      <td>https://www.nytimes.com/2016/11/13/us/election...</td>\n",
       "    </tr>\n",
       "    <tr>\n",
       "      <th>158</th>\n",
       "      <td>157</td>\n",
       "      <td>2017-10-07</td>\n",
       "      <td>Obama should have never gotten out the way he ...</td>\n",
       "      <td>The group’s origins date to 2004.</td>\n",
       "      <td>https://www.nytimes.com/2015/11/19/world/middl...</td>\n",
       "    </tr>\n",
       "    <tr>\n",
       "      <th>159</th>\n",
       "      <td>158</td>\n",
       "      <td>2017-10-10</td>\n",
       "      <td>The Failing @nytimes set Liddle' Bob Corker up...</td>\n",
       "      <td>Corker asked the Times reporter to record the ...</td>\n",
       "      <td>https://www.nytimes.com/2017/10/10/reader-cent...</td>\n",
       "    </tr>\n",
       "    <tr>\n",
       "      <th>164</th>\n",
       "      <td>163</td>\n",
       "      <td>2017-10-16</td>\n",
       "      <td>If you look at President Obama and other presi...</td>\n",
       "      <td>They did call families of soldiers killed in a...</td>\n",
       "      <td>https://www.nytimes.com/2017/10/16/us/politics...</td>\n",
       "    </tr>\n",
       "    <tr>\n",
       "      <th>171</th>\n",
       "      <td>170</td>\n",
       "      <td>2017-10-17</td>\n",
       "      <td>I wish President Obama didn't get out the way ...</td>\n",
       "      <td>The group’s origins date to 2004.</td>\n",
       "      <td>https://www.nytimes.com/2015/11/19/world/middl...</td>\n",
       "    </tr>\n",
       "    <tr>\n",
       "      <th>180</th>\n",
       "      <td>179</td>\n",
       "      <td>2017-11-11</td>\n",
       "      <td>I'd rather have him  – you know, work with him...</td>\n",
       "      <td>There is no evidence that Democrats \"set up\" R...</td>\n",
       "      <td>https://www.nytimes.com/interactive/2017/12/10...</td>\n",
       "    </tr>\n",
       "  </tbody>\n",
       "</table>\n",
       "</div>"
      ],
      "text/plain": [
       "     Unnamed: 0        date  \\\n",
       "3             2  2017-01-23   \n",
       "4             3  2017-01-25   \n",
       "5             4  2017-01-25   \n",
       "6             5  2017-01-25   \n",
       "8             7  2017-01-26   \n",
       "10            9  2017-01-28   \n",
       "12           11  2017-01-30   \n",
       "13           12  2017-02-03   \n",
       "14           13  2017-02-04   \n",
       "17           16  2017-02-06   \n",
       "18           17  2017-02-06   \n",
       "19           18  2017-02-06   \n",
       "26           25  2017-02-16   \n",
       "28           27  2017-02-16   \n",
       "32           31  2017-02-18   \n",
       "33           32  2017-02-18   \n",
       "36           35  2017-02-24   \n",
       "39           38  2017-02-28   \n",
       "40           39  2017-02-28   \n",
       "43           42  2017-03-04   \n",
       "44           43  2017-03-04   \n",
       "45           44  2017-03-07   \n",
       "47           46  2017-03-01   \n",
       "52           51  2017-03-02   \n",
       "54           53  2017-03-02   \n",
       "55           54  2017-03-02   \n",
       "56           55  2017-03-03   \n",
       "58           57  2017-04-02   \n",
       "59           58  2017-04-05   \n",
       "61           60  2017-04-01   \n",
       "62           61  2017-04-01   \n",
       "63           62  2017-04-01   \n",
       "64           63  2017-04-01   \n",
       "66           65  2017-04-01   \n",
       "67           66  2017-04-01   \n",
       "74           73  2017-04-02   \n",
       "76           75  2017-04-02   \n",
       "77           76  2017-04-02   \n",
       "79           78  2017-04-02   \n",
       "80           79  2017-05-01   \n",
       "82           81  2017-05-01   \n",
       "84           83  2017-05-04   \n",
       "87           86  2017-05-08   \n",
       "89           88  2017-05-08   \n",
       "90           89  2017-05-12   \n",
       "91           90  2017-05-12   \n",
       "99           98  2017-06-21   \n",
       "103         102  2017-06-21   \n",
       "104         103  2017-06-21   \n",
       "113         112  2017-07-17   \n",
       "115         114  2017-07-19   \n",
       "122         121  2017-07-25   \n",
       "148         147  2017-09-02   \n",
       "158         157  2017-10-07   \n",
       "159         158  2017-10-10   \n",
       "164         163  2017-10-16   \n",
       "171         170  2017-10-17   \n",
       "180         179  2017-11-11   \n",
       "\n",
       "                                             Trump lie  \\\n",
       "3    Between 3 million and 5 million illegal votes ...   \n",
       "4    Now, the audience was the biggest ever. But th...   \n",
       "5    Take a look at the Pew reports (which show vot...   \n",
       "6    You had millions of people that now aren't ins...   \n",
       "8    We've taken in tens of thousands of people. We...   \n",
       "10   The coverage about me in the @nytimes and the ...   \n",
       "12   Only 109 people out of 325,000 were detained a...   \n",
       "13   Professional anarchists, thugs and paid protes...   \n",
       "14   After being forced to apologize for its bad an...   \n",
       "17   It's gotten to a point where it is not even be...   \n",
       "18   The failing @nytimes was forced to apologize t...   \n",
       "19   And the previous administration allowed it to ...   \n",
       "26   We got 306 because people came out and voted l...   \n",
       "28   Walmart announced it will create 10,000 jobs i...   \n",
       "32   And there was no way to vet those people. Ther...   \n",
       "33   You look at what's happening in Germany, you l...   \n",
       "36   Obamacare covers very few people — and remembe...   \n",
       "39   And now, based on our very strong and frank di...   \n",
       "40   The E.P.A.’s regulators were putting people ou...   \n",
       "43   Terrible! Just found out that Obama had my ‘wi...   \n",
       "44   How low has President Obama gone to tap my pho...   \n",
       "45   122 vicious prisoners, released by the Obama A...   \n",
       "47            First of all, it covers very few people.   \n",
       "52   I make the statement, everyone goes crazy. The...   \n",
       "54   Well, now, if you take a look at the votes, wh...   \n",
       "55   Remember when the failing @nytimes apologized ...   \n",
       "56   We have a lot of plants going up now in Michig...   \n",
       "58   Now, my last tweet — you know, the one that yo...   \n",
       "59   You have many states coming up where they’re g...   \n",
       "61   I like Steve, but you have to remember he was ...   \n",
       "62   You can't do it faster, because they're obstru...   \n",
       "63   The New York Times said the word wiretapped in...   \n",
       "64   The secretary general and I had a productive d...   \n",
       "66   Someone should look into who paid for the smal...   \n",
       "67   The fake media goes, ‘Donald Trump changed his...   \n",
       "74   As you know, I've been a big critic of China, ...   \n",
       "76   We're also getting NATO countries to finally s...   \n",
       "77   When they talk about currency manipulation, an...   \n",
       "79   I think our side's been proven very strongly. ...   \n",
       "80   Well, we are protecting pre-existing condition...   \n",
       "82   First of all, since I started running, they ha...   \n",
       "84   Number two, they’re actually not a currency [m...   \n",
       "87   You know we’ve gotten billions of dollars more...   \n",
       "89   Director Clapper reiterated what everybody, in...   \n",
       "90   Again, the story that there was collusion betw...   \n",
       "91   When James Clapper himself, and virtually ever...   \n",
       "99   They all say it's 'nonbinding.' Like hell it's...   \n",
       "103  If [farmers] have a puddle in the middle of th...   \n",
       "104  Gary Cohn just paid $200 million in tax in ord...   \n",
       "113  We’ve signed more bills — and I’m talking abou...   \n",
       "115  I heard that Harry Truman was first, and then ...   \n",
       "122  Since I took office we have cut illegal immigr...   \n",
       "148  Facebook was always anti-Trump.The Networks we...   \n",
       "158  Obama should have never gotten out the way he ...   \n",
       "159  The Failing @nytimes set Liddle' Bob Corker up...   \n",
       "164  If you look at President Obama and other presi...   \n",
       "171  I wish President Obama didn't get out the way ...   \n",
       "180  I'd rather have him  – you know, work with him...   \n",
       "\n",
       "                                           Explanation  \\\n",
       "3               There's no evidence of illegal voting.   \n",
       "4    Official aerial photos show Obama's 2009 inaug...   \n",
       "5              The report never mentioned voter fraud.   \n",
       "6    The real number is less than 1 million, accord...   \n",
       "8                       Vetting lasts up to two years.   \n",
       "10                                It never apologized.   \n",
       "12   At least 746 people were detained and processe...   \n",
       "13            There is no evidence of paid protesters.   \n",
       "14                                It never apologized.   \n",
       "17    Terrorism has been reported on, often in detail.   \n",
       "18                                It didn't apologize.   \n",
       "19                   The group’s origins date to 2004.   \n",
       "26   George H.W. Bush, Bill Clinton and Barack Obam...   \n",
       "28   The jobs are a result of its investment plans ...   \n",
       "32   Refugees receive multiple background checks, t...   \n",
       "33   Trump implied there was a terror attack in Swe...   \n",
       "36   Obamacare increased coverage by a net of about...   \n",
       "39   NATO countries agreed to meet defense spending...   \n",
       "40   There's no evidence that the Waters of the Uni...   \n",
       "43                   There's no evidence of a wiretap.   \n",
       "44                   There's no evidence of a wiretap.   \n",
       "45   113 of them were released by President George ...   \n",
       "47   About 20 million people gained insurance under...   \n",
       "52   Riots in Sweden broke out two days later and t...   \n",
       "54      There's no evidence of widespread voter fraud.   \n",
       "55                                It didn't apologize.   \n",
       "56             These investments were already planned.   \n",
       "58                         There is still no evidence.   \n",
       "59   Every marketplace region in Tennessee had at l...   \n",
       "61                    He knew Steve Bannon since 2011.   \n",
       "62   At this point, he had not nominated anyone for...   \n",
       "63   There were separate headlines for print and we...   \n",
       "64   NATO has been engaged in counterterrorism effo...   \n",
       "66             There's no evidence of paid protesters.   \n",
       "67                                             He did.   \n",
       "74                            China stopped years ago.   \n",
       "76                        The deal was struck in 2014.   \n",
       "77                              China stopped in 2014.   \n",
       "79   There's still no evidence Trump's phones were ...   \n",
       "80   The bill weakens protections for people with p...   \n",
       "82                            China stopped years ago.   \n",
       "84                            China stopped years ago.   \n",
       "87                        The deal was struck in 2014.   \n",
       "89   Clapper only said he wasn't aware of an invest...   \n",
       "90   The F.B.I. was investigating before the election.   \n",
       "91   Clapper said he wouldn't have been told of an ...   \n",
       "99   The Paris climate agreement is nonbinding — an...   \n",
       "103  The Obama environmental rule to limit pollutio...   \n",
       "104  Cohn sold Goldman Sachs stock worth $220 million.   \n",
       "113  Clinton, Carter, Truman, and F.D.R. had signed...   \n",
       "115  Presidents Clinton, Carter, Truman, and F.D.R....   \n",
       "122     The decline began before Trump's inauguration.   \n",
       "148  The Times did not apologize for its Trump cove...   \n",
       "158                  The group’s origins date to 2004.   \n",
       "159  Corker asked the Times reporter to record the ...   \n",
       "164  They did call families of soldiers killed in a...   \n",
       "171                  The group’s origins date to 2004.   \n",
       "180  There is no evidence that Democrats \"set up\" R...   \n",
       "\n",
       "                                                 Links  \n",
       "3    https://www.nytimes.com/2017/01/23/us/politics...  \n",
       "4    https://www.nytimes.com/2017/01/21/us/politics...  \n",
       "5    https://www.nytimes.com/2017/01/24/us/politics...  \n",
       "6    https://www.nytimes.com/2017/03/13/us/politics...  \n",
       "8    https://www.nytimes.com/interactive/2017/01/29...  \n",
       "10   https://www.nytimes.com/2016/11/13/us/election...  \n",
       "12   http://markets.on.nytimes.com/research/stocks/...  \n",
       "13   https://www.nytimes.com/2017/01/28/nyregion/jf...  \n",
       "14   https://www.nytimes.com/2016/11/13/us/election...  \n",
       "17   https://www.nytimes.com/2017/02/07/us/politics...  \n",
       "18   https://www.nytimes.com/2016/11/13/us/election...  \n",
       "19   https://www.nytimes.com/2015/11/19/world/middl...  \n",
       "26   https://www.nytimes.com/2017/02/16/us/politics...  \n",
       "28   https://www.nytimes.com/interactive/2017/busin...  \n",
       "32   https://www.nytimes.com/interactive/2017/01/29...  \n",
       "33   https://www.nytimes.com/2017/02/19/world/europ...  \n",
       "36   https://www.nytimes.com/2017/02/24/us/politics...  \n",
       "39   https://www.nytimes.com/2017/03/01/us/politics...  \n",
       "40   http://www.nytimes.com/2011/09/05/business/eco...  \n",
       "43   https://www.nytimes.com/2017/03/04/us/politics...  \n",
       "44   https://www.nytimes.com/2017/03/04/us/politics...  \n",
       "45   https://www.nytimes.com/2017/03/07/us/politics...  \n",
       "47   https://www.nytimes.com/2017/03/13/us/politics...  \n",
       "52   https://www.nytimes.com/2017/02/19/world/europ...  \n",
       "54   https://www.nytimes.com/2017/01/24/us/politics...  \n",
       "55   https://www.nytimes.com/2016/11/13/us/election...  \n",
       "56   https://www.nytimes.com/interactive/2017/busin...  \n",
       "58   https://www.nytimes.com/2017/03/04/us/politics...  \n",
       "59   https://www.nytimes.com/2017/03/24/us/politics...  \n",
       "61   https://www.nytimes.com/2017/04/12/us/politics...  \n",
       "62   https://www.nytimes.com/2017/04/12/us/politics...  \n",
       "63   https://www.nytimes.com/2017/03/23/us/politics...  \n",
       "64   https://www.nytimes.com/2017/04/12/us/politics...  \n",
       "66   https://www.nytimes.com/2017/04/15/us/politics...  \n",
       "67   https://www.nytimes.com/2017/04/14/business/ch...  \n",
       "74   https://www.nytimes.com/2017/04/07/world/asia/...  \n",
       "76   https://www.nytimes.com/2017/03/01/us/politics...  \n",
       "77   https://www.nytimes.com/2017/04/07/world/asia/...  \n",
       "79   https://www.nytimes.com/2017/03/20/us/politics...  \n",
       "80   https://www.nytimes.com/2017/04/26/upshot/what...  \n",
       "82   https://www.nytimes.com/2017/04/07/world/asia/...  \n",
       "84   https://www.nytimes.com/2017/04/07/world/asia/...  \n",
       "87   https://www.nytimes.com/2017/03/01/us/politics...  \n",
       "89   https://www.nytimes.com/2017/05/10/us/politics...  \n",
       "90   https://www.nytimes.com/interactive/2017/05/10...  \n",
       "91   https://www.nytimes.com/2017/05/10/us/politics...  \n",
       "99   https://www.nytimes.com/2017/06/21/us/politics...  \n",
       "103  https://www.nytimes.com/2017/06/22/us/politics...  \n",
       "104  https://www.nytimes.com/2017/06/22/us/politics...  \n",
       "113  https://www.nytimes.com/2017/07/17/us/politics...  \n",
       "115  https://www.nytimes.com/2017/07/17/us/politics...  \n",
       "122  https://www.nytimes.com/interactive/2017/10/12...  \n",
       "148  https://www.nytimes.com/2016/11/13/us/election...  \n",
       "158  https://www.nytimes.com/2015/11/19/world/middl...  \n",
       "159  https://www.nytimes.com/2017/10/10/reader-cent...  \n",
       "164  https://www.nytimes.com/2017/10/16/us/politics...  \n",
       "171  https://www.nytimes.com/2015/11/19/world/middl...  \n",
       "180  https://www.nytimes.com/interactive/2017/12/10...  "
      ]
     },
     "execution_count": 73,
     "metadata": {},
     "output_type": "execute_result"
    }
   ],
   "source": [
    "# All the nytimes links\n",
    "df[df[\"Links\"].str.contains('nytimes')]"
   ]
  },
  {
   "cell_type": "code",
   "execution_count": 79,
   "metadata": {},
   "outputs": [
    {
     "data": {
      "text/html": [
       "<div>\n",
       "<style scoped>\n",
       "    .dataframe tbody tr th:only-of-type {\n",
       "        vertical-align: middle;\n",
       "    }\n",
       "\n",
       "    .dataframe tbody tr th {\n",
       "        vertical-align: top;\n",
       "    }\n",
       "\n",
       "    .dataframe thead th {\n",
       "        text-align: right;\n",
       "    }\n",
       "</style>\n",
       "<table border=\"1\" class=\"dataframe\">\n",
       "  <thead>\n",
       "    <tr style=\"text-align: right;\">\n",
       "      <th></th>\n",
       "      <th>Unnamed: 0</th>\n",
       "      <th>date</th>\n",
       "      <th>Trump lie</th>\n",
       "      <th>Explanation</th>\n",
       "      <th>Links</th>\n",
       "    </tr>\n",
       "  </thead>\n",
       "  <tbody>\n",
       "    <tr>\n",
       "      <th>1</th>\n",
       "      <td>0</td>\n",
       "      <td>2017-01-21</td>\n",
       "      <td>I wasn't a fan of Iraq. I didn't want to go in...</td>\n",
       "      <td>He was for an invasion before he was against it.</td>\n",
       "      <td>https://www.buzzfeed.com/andrewkaczynski/in-20...</td>\n",
       "    </tr>\n",
       "    <tr>\n",
       "      <th>19</th>\n",
       "      <td>18</td>\n",
       "      <td>2017-02-06</td>\n",
       "      <td>And the previous administration allowed it to ...</td>\n",
       "      <td>The group’s origins date to 2004.</td>\n",
       "      <td>https://www.nytimes.com/2015/11/19/world/middl...</td>\n",
       "    </tr>\n",
       "  </tbody>\n",
       "</table>\n",
       "</div>"
      ],
      "text/plain": [
       "    Unnamed: 0        date                                          Trump lie  \\\n",
       "1            0  2017-01-21  I wasn't a fan of Iraq. I didn't want to go in...   \n",
       "19          18  2017-02-06  And the previous administration allowed it to ...   \n",
       "\n",
       "                                         Explanation  \\\n",
       "1   He was for an invasion before he was against it.   \n",
       "19                 The group’s origins date to 2004.   \n",
       "\n",
       "                                                Links  \n",
       "1   https://www.buzzfeed.com/andrewkaczynski/in-20...  \n",
       "19  https://www.nytimes.com/2015/11/19/world/middl...  "
      ]
     },
     "execution_count": 79,
     "metadata": {},
     "output_type": "execute_result"
    }
   ],
   "source": [
    "# Iraqs lie and Explantion\n",
    "df[df[\"Trump lie\"].str.contains('Iraq')]"
   ]
  },
  {
   "cell_type": "code",
   "execution_count": 117,
   "metadata": {
    "scrolled": true
   },
   "outputs": [
    {
     "name": "stdout",
     "output_type": "stream",
     "text": [
      "2017-01-21:-- I wasn't a fan of Iraq. I didn't want to go into Iraq.\n",
      "2017-02-06:-- And the previous administration allowed it to happen because we shouldn't have been in Iraq, but we shouldn't have gotten out the way we got out. It created a vacuum, ISIS was formed.\n"
     ]
    }
   ],
   "source": [
    "print(\"2017-01-21:--\",df.iloc[0,2])\n",
    "print(\"2017-02-06:--\",df.iloc[18,2])"
   ]
  },
  {
   "cell_type": "code",
   "execution_count": 88,
   "metadata": {},
   "outputs": [
    {
     "data": {
      "text/html": [
       "<div>\n",
       "<style scoped>\n",
       "    .dataframe tbody tr th:only-of-type {\n",
       "        vertical-align: middle;\n",
       "    }\n",
       "\n",
       "    .dataframe tbody tr th {\n",
       "        vertical-align: top;\n",
       "    }\n",
       "\n",
       "    .dataframe thead th {\n",
       "        text-align: right;\n",
       "    }\n",
       "</style>\n",
       "<table border=\"1\" class=\"dataframe\">\n",
       "  <thead>\n",
       "    <tr style=\"text-align: right;\">\n",
       "      <th></th>\n",
       "      <th>Unnamed: 0</th>\n",
       "      <th>date</th>\n",
       "      <th>Trump lie</th>\n",
       "      <th>Explanation</th>\n",
       "      <th>Links</th>\n",
       "    </tr>\n",
       "  </thead>\n",
       "  <tbody>\n",
       "    <tr>\n",
       "      <th>7</th>\n",
       "      <td>6</td>\n",
       "      <td>2017-01-25</td>\n",
       "      <td>So, look, when President Obama was there two w...</td>\n",
       "      <td>There were no gun homicide victims in Chicago ...</td>\n",
       "      <td>https://www.dnainfo.com/chicago/2017-chicago-m...</td>\n",
       "    </tr>\n",
       "    <tr>\n",
       "      <th>44</th>\n",
       "      <td>43</td>\n",
       "      <td>2017-03-04</td>\n",
       "      <td>How low has President Obama gone to tap my pho...</td>\n",
       "      <td>There's no evidence of a wiretap.</td>\n",
       "      <td>https://www.nytimes.com/2017/03/04/us/politics...</td>\n",
       "    </tr>\n",
       "    <tr>\n",
       "      <th>126</th>\n",
       "      <td>125</td>\n",
       "      <td>2017-07-31</td>\n",
       "      <td>And even the President of Mexico called me  – ...</td>\n",
       "      <td>Mexico's president says he didn't call Trump.</td>\n",
       "      <td>http://www.cnn.com/2017/08/02/politics/trump-p...</td>\n",
       "    </tr>\n",
       "    <tr>\n",
       "      <th>164</th>\n",
       "      <td>163</td>\n",
       "      <td>2017-10-16</td>\n",
       "      <td>If you look at President Obama and other presi...</td>\n",
       "      <td>They did call families of soldiers killed in a...</td>\n",
       "      <td>https://www.nytimes.com/2017/10/16/us/politics...</td>\n",
       "    </tr>\n",
       "    <tr>\n",
       "      <th>171</th>\n",
       "      <td>170</td>\n",
       "      <td>2017-10-17</td>\n",
       "      <td>I wish President Obama didn't get out the way ...</td>\n",
       "      <td>The group’s origins date to 2004.</td>\n",
       "      <td>https://www.nytimes.com/2015/11/19/world/middl...</td>\n",
       "    </tr>\n",
       "  </tbody>\n",
       "</table>\n",
       "</div>"
      ],
      "text/plain": [
       "     Unnamed: 0        date  \\\n",
       "7             6  2017-01-25   \n",
       "44           43  2017-03-04   \n",
       "126         125  2017-07-31   \n",
       "164         163  2017-10-16   \n",
       "171         170  2017-10-17   \n",
       "\n",
       "                                             Trump lie  \\\n",
       "7    So, look, when President Obama was there two w...   \n",
       "44   How low has President Obama gone to tap my pho...   \n",
       "126  And even the President of Mexico called me  – ...   \n",
       "164  If you look at President Obama and other presi...   \n",
       "171  I wish President Obama didn't get out the way ...   \n",
       "\n",
       "                                           Explanation  \\\n",
       "7    There were no gun homicide victims in Chicago ...   \n",
       "44                   There's no evidence of a wiretap.   \n",
       "126      Mexico's president says he didn't call Trump.   \n",
       "164  They did call families of soldiers killed in a...   \n",
       "171                  The group’s origins date to 2004.   \n",
       "\n",
       "                                                 Links  \n",
       "7    https://www.dnainfo.com/chicago/2017-chicago-m...  \n",
       "44   https://www.nytimes.com/2017/03/04/us/politics...  \n",
       "126  http://www.cnn.com/2017/08/02/politics/trump-p...  \n",
       "164  https://www.nytimes.com/2017/10/16/us/politics...  \n",
       "171  https://www.nytimes.com/2015/11/19/world/middl...  "
      ]
     },
     "execution_count": 88,
     "metadata": {},
     "output_type": "execute_result"
    }
   ],
   "source": [
    "# This many times President Trump has also lied about President Obama too\n",
    "df[df[\"Trump lie\"].str.contains('President')]"
   ]
  },
  {
   "cell_type": "code",
   "execution_count": 107,
   "metadata": {},
   "outputs": [
    {
     "name": "stdout",
     "output_type": "stream",
     "text": [
      "2017-01-25:--  So, look, when President Obama was there two weeks ago making a speech, very nice speech. Two people were shot and killed during his speech. You can't have that.\n",
      "\n",
      "2017-03-04:-- How low has President Obama gone to tap my phones during the very sacred election process. This is Nixon/Watergate. Bad (or sick) guy!\n",
      "\n",
      "2017-07-31:-- And even the President of Mexico called me  – they said their southern border, very few people are coming because they know they’re not going to get through our border, which is the ultimate compliment.\n",
      "\n",
      "2017-10-16:-- If you look at President Obama and other presidents, most of them didn’t make calls.\n",
      "\n",
      "2017-10-17:-- I wish President Obama didn't get out the way he got out. Because that left a vacuum and ISIS was formed.\n"
     ]
    }
   ],
   "source": [
    "print(\"2017-01-25:-- \",df.iloc[6,2])\n",
    "print()\n",
    "print(\"2017-03-04:--\",df.iloc[43,2])\n",
    "print()\n",
    "print(\"2017-07-31:--\",df.iloc[125,2])\n",
    "print()\n",
    "print(\"2017-10-16:--\",df.iloc[163,2])\n",
    "print()\n",
    "print(\"2017-10-17:--\",df.iloc[170,2])"
   ]
  },
  {
   "cell_type": "code",
   "execution_count": 180,
   "metadata": {},
   "outputs": [
    {
     "data": {
      "text/html": [
       "<div>\n",
       "<style scoped>\n",
       "    .dataframe tbody tr th:only-of-type {\n",
       "        vertical-align: middle;\n",
       "    }\n",
       "\n",
       "    .dataframe tbody tr th {\n",
       "        vertical-align: top;\n",
       "    }\n",
       "\n",
       "    .dataframe thead th {\n",
       "        text-align: right;\n",
       "    }\n",
       "</style>\n",
       "<table border=\"1\" class=\"dataframe\">\n",
       "  <thead>\n",
       "    <tr style=\"text-align: right;\">\n",
       "      <th></th>\n",
       "      <th>date</th>\n",
       "      <th>Trump lie</th>\n",
       "      <th>Explanation</th>\n",
       "      <th>Links</th>\n",
       "    </tr>\n",
       "  </thead>\n",
       "  <tbody>\n",
       "    <tr>\n",
       "      <th>1</th>\n",
       "      <td>2017-01-21</td>\n",
       "      <td>I wasn't a fan of Iraq. I didn't want to go in...</td>\n",
       "      <td>He was for an invasion before he was against it.</td>\n",
       "      <td>https://www.buzzfeed.com/andrewkaczynski/in-20...</td>\n",
       "    </tr>\n",
       "    <tr>\n",
       "      <th>2</th>\n",
       "      <td>2017-01-21</td>\n",
       "      <td>A reporter for Time magazine — and I have been...</td>\n",
       "      <td>Trump was on the cover 11 times and Nixon appe...</td>\n",
       "      <td>http://nation.time.com/2013/11/06/10-things-yo...</td>\n",
       "    </tr>\n",
       "    <tr>\n",
       "      <th>3</th>\n",
       "      <td>2017-01-23</td>\n",
       "      <td>Between 3 million and 5 million illegal votes ...</td>\n",
       "      <td>There's no evidence of illegal voting.</td>\n",
       "      <td>https://www.nytimes.com/2017/01/23/us/politics...</td>\n",
       "    </tr>\n",
       "    <tr>\n",
       "      <th>4</th>\n",
       "      <td>2017-01-25</td>\n",
       "      <td>Now, the audience was the biggest ever. But th...</td>\n",
       "      <td>Official aerial photos show Obama's 2009 inaug...</td>\n",
       "      <td>https://www.nytimes.com/2017/01/21/us/politics...</td>\n",
       "    </tr>\n",
       "    <tr>\n",
       "      <th>5</th>\n",
       "      <td>2017-01-25</td>\n",
       "      <td>Take a look at the Pew reports (which show vot...</td>\n",
       "      <td>The report never mentioned voter fraud.</td>\n",
       "      <td>https://www.nytimes.com/2017/01/24/us/politics...</td>\n",
       "    </tr>\n",
       "  </tbody>\n",
       "</table>\n",
       "</div>"
      ],
      "text/plain": [
       "         date                                          Trump lie  \\\n",
       "1  2017-01-21  I wasn't a fan of Iraq. I didn't want to go in...   \n",
       "2  2017-01-21  A reporter for Time magazine — and I have been...   \n",
       "3  2017-01-23  Between 3 million and 5 million illegal votes ...   \n",
       "4  2017-01-25  Now, the audience was the biggest ever. But th...   \n",
       "5  2017-01-25  Take a look at the Pew reports (which show vot...   \n",
       "\n",
       "                                         Explanation  \\\n",
       "1   He was for an invasion before he was against it.   \n",
       "2  Trump was on the cover 11 times and Nixon appe...   \n",
       "3             There's no evidence of illegal voting.   \n",
       "4  Official aerial photos show Obama's 2009 inaug...   \n",
       "5            The report never mentioned voter fraud.   \n",
       "\n",
       "                                               Links  \n",
       "1  https://www.buzzfeed.com/andrewkaczynski/in-20...  \n",
       "2  http://nation.time.com/2013/11/06/10-things-yo...  \n",
       "3  https://www.nytimes.com/2017/01/23/us/politics...  \n",
       "4  https://www.nytimes.com/2017/01/21/us/politics...  \n",
       "5  https://www.nytimes.com/2017/01/24/us/politics...  "
      ]
     },
     "execution_count": 180,
     "metadata": {},
     "output_type": "execute_result"
    }
   ],
   "source": [
    "# Sorting lies by date\n",
    "df.sort_values('date',ascending=True).head()"
   ]
  },
  {
   "cell_type": "code",
   "execution_count": 181,
   "metadata": {},
   "outputs": [
    {
     "data": {
      "text/html": [
       "<div>\n",
       "<style scoped>\n",
       "    .dataframe tbody tr th:only-of-type {\n",
       "        vertical-align: middle;\n",
       "    }\n",
       "\n",
       "    .dataframe tbody tr th {\n",
       "        vertical-align: top;\n",
       "    }\n",
       "\n",
       "    .dataframe thead th {\n",
       "        text-align: right;\n",
       "    }\n",
       "</style>\n",
       "<table border=\"1\" class=\"dataframe\">\n",
       "  <thead>\n",
       "    <tr style=\"text-align: right;\">\n",
       "      <th></th>\n",
       "      <th>date</th>\n",
       "      <th>Trump lie</th>\n",
       "      <th>Explanation</th>\n",
       "      <th>Links</th>\n",
       "    </tr>\n",
       "  </thead>\n",
       "  <tbody>\n",
       "    <tr>\n",
       "      <th>1</th>\n",
       "      <td>2017-01-21</td>\n",
       "      <td>I wasn't a fan of Iraq. I didn't want to go in...</td>\n",
       "      <td>He was for an invasion before he was against it.</td>\n",
       "      <td>https://www.buzzfeed.com/andrewkaczynski/in-20...</td>\n",
       "    </tr>\n",
       "    <tr>\n",
       "      <th>2</th>\n",
       "      <td>2017-01-21</td>\n",
       "      <td>A reporter for Time magazine — and I have been...</td>\n",
       "      <td>Trump was on the cover 11 times and Nixon appe...</td>\n",
       "      <td>http://nation.time.com/2013/11/06/10-things-yo...</td>\n",
       "    </tr>\n",
       "    <tr>\n",
       "      <th>3</th>\n",
       "      <td>2017-01-23</td>\n",
       "      <td>Between 3 million and 5 million illegal votes ...</td>\n",
       "      <td>There's no evidence of illegal voting.</td>\n",
       "      <td>https://www.nytimes.com/2017/01/23/us/politics...</td>\n",
       "    </tr>\n",
       "    <tr>\n",
       "      <th>4</th>\n",
       "      <td>2017-01-25</td>\n",
       "      <td>Now, the audience was the biggest ever. But th...</td>\n",
       "      <td>Official aerial photos show Obama's 2009 inaug...</td>\n",
       "      <td>https://www.nytimes.com/2017/01/21/us/politics...</td>\n",
       "    </tr>\n",
       "    <tr>\n",
       "      <th>5</th>\n",
       "      <td>2017-01-25</td>\n",
       "      <td>Take a look at the Pew reports (which show vot...</td>\n",
       "      <td>The report never mentioned voter fraud.</td>\n",
       "      <td>https://www.nytimes.com/2017/01/24/us/politics...</td>\n",
       "    </tr>\n",
       "  </tbody>\n",
       "</table>\n",
       "</div>"
      ],
      "text/plain": [
       "         date                                          Trump lie  \\\n",
       "1  2017-01-21  I wasn't a fan of Iraq. I didn't want to go in...   \n",
       "2  2017-01-21  A reporter for Time magazine — and I have been...   \n",
       "3  2017-01-23  Between 3 million and 5 million illegal votes ...   \n",
       "4  2017-01-25  Now, the audience was the biggest ever. But th...   \n",
       "5  2017-01-25  Take a look at the Pew reports (which show vot...   \n",
       "\n",
       "                                         Explanation  \\\n",
       "1   He was for an invasion before he was against it.   \n",
       "2  Trump was on the cover 11 times and Nixon appe...   \n",
       "3             There's no evidence of illegal voting.   \n",
       "4  Official aerial photos show Obama's 2009 inaug...   \n",
       "5            The report never mentioned voter fraud.   \n",
       "\n",
       "                                               Links  \n",
       "1  https://www.buzzfeed.com/andrewkaczynski/in-20...  \n",
       "2  http://nation.time.com/2013/11/06/10-things-yo...  \n",
       "3  https://www.nytimes.com/2017/01/23/us/politics...  \n",
       "4  https://www.nytimes.com/2017/01/21/us/politics...  \n",
       "5  https://www.nytimes.com/2017/01/24/us/politics...  "
      ]
     },
     "execution_count": 181,
     "metadata": {},
     "output_type": "execute_result"
    }
   ],
   "source": [
    "df.head()"
   ]
  },
  {
   "cell_type": "code",
   "execution_count": 182,
   "metadata": {},
   "outputs": [
    {
     "data": {
      "text/html": [
       "<div>\n",
       "<style scoped>\n",
       "    .dataframe tbody tr th:only-of-type {\n",
       "        vertical-align: middle;\n",
       "    }\n",
       "\n",
       "    .dataframe tbody tr th {\n",
       "        vertical-align: top;\n",
       "    }\n",
       "\n",
       "    .dataframe thead th {\n",
       "        text-align: right;\n",
       "    }\n",
       "</style>\n",
       "<table border=\"1\" class=\"dataframe\">\n",
       "  <thead>\n",
       "    <tr style=\"text-align: right;\">\n",
       "      <th></th>\n",
       "      <th>date</th>\n",
       "      <th>Trump lie</th>\n",
       "      <th>Explanation</th>\n",
       "      <th>Links</th>\n",
       "    </tr>\n",
       "  </thead>\n",
       "  <tbody>\n",
       "    <tr>\n",
       "      <th>1</th>\n",
       "      <td>2017-01-21</td>\n",
       "      <td>I wasn't a fan of Iraq. I didn't want to go in...</td>\n",
       "      <td>He was for an invasion before he was against it.</td>\n",
       "      <td>https://www.buzzfeed.com/andrewkaczynski/in-20...</td>\n",
       "    </tr>\n",
       "    <tr>\n",
       "      <th>2</th>\n",
       "      <td>2017-01-21</td>\n",
       "      <td>A reporter for Time magazine — and I have been...</td>\n",
       "      <td>Trump was on the cover 11 times and Nixon appe...</td>\n",
       "      <td>http://nation.time.com/2013/11/06/10-things-yo...</td>\n",
       "    </tr>\n",
       "    <tr>\n",
       "      <th>3</th>\n",
       "      <td>2017-01-23</td>\n",
       "      <td>Between 3 million and 5 million illegal votes ...</td>\n",
       "      <td>There's no evidence of illegal voting.</td>\n",
       "      <td>https://www.nytimes.com/2017/01/23/us/politics...</td>\n",
       "    </tr>\n",
       "    <tr>\n",
       "      <th>4</th>\n",
       "      <td>2017-01-25</td>\n",
       "      <td>Now, the audience was the biggest ever. But th...</td>\n",
       "      <td>Official aerial photos show Obama's 2009 inaug...</td>\n",
       "      <td>https://www.nytimes.com/2017/01/21/us/politics...</td>\n",
       "    </tr>\n",
       "    <tr>\n",
       "      <th>5</th>\n",
       "      <td>2017-01-25</td>\n",
       "      <td>Take a look at the Pew reports (which show vot...</td>\n",
       "      <td>The report never mentioned voter fraud.</td>\n",
       "      <td>https://www.nytimes.com/2017/01/24/us/politics...</td>\n",
       "    </tr>\n",
       "    <tr>\n",
       "      <th>6</th>\n",
       "      <td>2017-01-25</td>\n",
       "      <td>You had millions of people that now aren't ins...</td>\n",
       "      <td>The real number is less than 1 million, accord...</td>\n",
       "      <td>https://www.nytimes.com/2017/03/13/us/politics...</td>\n",
       "    </tr>\n",
       "    <tr>\n",
       "      <th>7</th>\n",
       "      <td>2017-01-25</td>\n",
       "      <td>So, look, when President Obama was there two w...</td>\n",
       "      <td>There were no gun homicide victims in Chicago ...</td>\n",
       "      <td>https://www.dnainfo.com/chicago/2017-chicago-m...</td>\n",
       "    </tr>\n",
       "    <tr>\n",
       "      <th>8</th>\n",
       "      <td>2017-01-26</td>\n",
       "      <td>We've taken in tens of thousands of people. We...</td>\n",
       "      <td>Vetting lasts up to two years.</td>\n",
       "      <td>https://www.nytimes.com/interactive/2017/01/29...</td>\n",
       "    </tr>\n",
       "    <tr>\n",
       "      <th>9</th>\n",
       "      <td>2017-01-26</td>\n",
       "      <td>I cut off hundreds of millions of dollars off ...</td>\n",
       "      <td>Most of the cuts were already planned.</td>\n",
       "      <td>https://www.washingtonpost.com/news/fact-check...</td>\n",
       "    </tr>\n",
       "    <tr>\n",
       "      <th>10</th>\n",
       "      <td>2017-01-28</td>\n",
       "      <td>The coverage about me in the @nytimes and the ...</td>\n",
       "      <td>It never apologized.</td>\n",
       "      <td>https://www.nytimes.com/2016/11/13/us/election...</td>\n",
       "    </tr>\n",
       "    <tr>\n",
       "      <th>11</th>\n",
       "      <td>2017-01-29</td>\n",
       "      <td>The Cuban-Americans, I got 84 percent of that ...</td>\n",
       "      <td>There is no support for this.</td>\n",
       "      <td>http://www.pewresearch.org/fact-tank/2016/11/1...</td>\n",
       "    </tr>\n",
       "    <tr>\n",
       "      <th>12</th>\n",
       "      <td>2017-01-30</td>\n",
       "      <td>Only 109 people out of 325,000 were detained a...</td>\n",
       "      <td>At least 746 people were detained and processe...</td>\n",
       "      <td>http://markets.on.nytimes.com/research/stocks/...</td>\n",
       "    </tr>\n",
       "  </tbody>\n",
       "</table>\n",
       "</div>"
      ],
      "text/plain": [
       "          date                                          Trump lie  \\\n",
       "1   2017-01-21  I wasn't a fan of Iraq. I didn't want to go in...   \n",
       "2   2017-01-21  A reporter for Time magazine — and I have been...   \n",
       "3   2017-01-23  Between 3 million and 5 million illegal votes ...   \n",
       "4   2017-01-25  Now, the audience was the biggest ever. But th...   \n",
       "5   2017-01-25  Take a look at the Pew reports (which show vot...   \n",
       "6   2017-01-25  You had millions of people that now aren't ins...   \n",
       "7   2017-01-25  So, look, when President Obama was there two w...   \n",
       "8   2017-01-26  We've taken in tens of thousands of people. We...   \n",
       "9   2017-01-26  I cut off hundreds of millions of dollars off ...   \n",
       "10  2017-01-28  The coverage about me in the @nytimes and the ...   \n",
       "11  2017-01-29  The Cuban-Americans, I got 84 percent of that ...   \n",
       "12  2017-01-30  Only 109 people out of 325,000 were detained a...   \n",
       "\n",
       "                                          Explanation  \\\n",
       "1    He was for an invasion before he was against it.   \n",
       "2   Trump was on the cover 11 times and Nixon appe...   \n",
       "3              There's no evidence of illegal voting.   \n",
       "4   Official aerial photos show Obama's 2009 inaug...   \n",
       "5             The report never mentioned voter fraud.   \n",
       "6   The real number is less than 1 million, accord...   \n",
       "7   There were no gun homicide victims in Chicago ...   \n",
       "8                      Vetting lasts up to two years.   \n",
       "9              Most of the cuts were already planned.   \n",
       "10                               It never apologized.   \n",
       "11                      There is no support for this.   \n",
       "12  At least 746 people were detained and processe...   \n",
       "\n",
       "                                                Links  \n",
       "1   https://www.buzzfeed.com/andrewkaczynski/in-20...  \n",
       "2   http://nation.time.com/2013/11/06/10-things-yo...  \n",
       "3   https://www.nytimes.com/2017/01/23/us/politics...  \n",
       "4   https://www.nytimes.com/2017/01/21/us/politics...  \n",
       "5   https://www.nytimes.com/2017/01/24/us/politics...  \n",
       "6   https://www.nytimes.com/2017/03/13/us/politics...  \n",
       "7   https://www.dnainfo.com/chicago/2017-chicago-m...  \n",
       "8   https://www.nytimes.com/interactive/2017/01/29...  \n",
       "9   https://www.washingtonpost.com/news/fact-check...  \n",
       "10  https://www.nytimes.com/2016/11/13/us/election...  \n",
       "11  http://www.pewresearch.org/fact-tank/2016/11/1...  \n",
       "12  http://markets.on.nytimes.com/research/stocks/...  "
      ]
     },
     "execution_count": 182,
     "metadata": {},
     "output_type": "execute_result"
    }
   ],
   "source": [
    "# All the 2017-january month lies\n",
    "df[df.date.str.contains('2017-01')]"
   ]
  },
  {
   "cell_type": "code",
   "execution_count": 183,
   "metadata": {},
   "outputs": [
    {
     "data": {
      "text/html": [
       "<div>\n",
       "<style scoped>\n",
       "    .dataframe tbody tr th:only-of-type {\n",
       "        vertical-align: middle;\n",
       "    }\n",
       "\n",
       "    .dataframe tbody tr th {\n",
       "        vertical-align: top;\n",
       "    }\n",
       "\n",
       "    .dataframe thead th {\n",
       "        text-align: right;\n",
       "    }\n",
       "</style>\n",
       "<table border=\"1\" class=\"dataframe\">\n",
       "  <thead>\n",
       "    <tr style=\"text-align: right;\">\n",
       "      <th></th>\n",
       "      <th>date</th>\n",
       "      <th>Trump lie</th>\n",
       "      <th>Explanation</th>\n",
       "      <th>Links</th>\n",
       "    </tr>\n",
       "  </thead>\n",
       "  <tbody>\n",
       "    <tr>\n",
       "      <th>104</th>\n",
       "      <td>2017-06-21</td>\n",
       "      <td>Gary Cohn just paid $200 million in tax in ord...</td>\n",
       "      <td>Cohn sold Goldman Sachs stock worth $220 million.</td>\n",
       "      <td>https://www.nytimes.com/2017/06/22/us/politics...</td>\n",
       "    </tr>\n",
       "  </tbody>\n",
       "</table>\n",
       "</div>"
      ],
      "text/plain": [
       "           date                                          Trump lie  \\\n",
       "104  2017-06-21  Gary Cohn just paid $200 million in tax in ord...   \n",
       "\n",
       "                                           Explanation  \\\n",
       "104  Cohn sold Goldman Sachs stock worth $220 million.   \n",
       "\n",
       "                                                 Links  \n",
       "104  https://www.nytimes.com/2017/06/22/us/politics...  "
      ]
     },
     "execution_count": 183,
     "metadata": {},
     "output_type": "execute_result"
    }
   ],
   "source": [
    "# Trump lie on Gary Cohn(Vice Chairman of IBM)\n",
    "df[df[\"Trump lie\"].str.contains('Gary Cohn')]"
   ]
  },
  {
   "cell_type": "code",
   "execution_count": 184,
   "metadata": {},
   "outputs": [
    {
     "data": {
      "text/plain": [
       "'Gary Cohn just paid $200 million in tax in order to take this job, by the way.'"
      ]
     },
     "execution_count": 184,
     "metadata": {},
     "output_type": "execute_result"
    }
   ],
   "source": [
    "df.iloc[103,1]"
   ]
  },
  {
   "cell_type": "code",
   "execution_count": 185,
   "metadata": {},
   "outputs": [
    {
     "data": {
      "text/html": [
       "<div>\n",
       "<style scoped>\n",
       "    .dataframe tbody tr th:only-of-type {\n",
       "        vertical-align: middle;\n",
       "    }\n",
       "\n",
       "    .dataframe tbody tr th {\n",
       "        vertical-align: top;\n",
       "    }\n",
       "\n",
       "    .dataframe thead th {\n",
       "        text-align: right;\n",
       "    }\n",
       "</style>\n",
       "<table border=\"1\" class=\"dataframe\">\n",
       "  <thead>\n",
       "    <tr style=\"text-align: right;\">\n",
       "      <th></th>\n",
       "      <th>date</th>\n",
       "      <th>Trump lie</th>\n",
       "      <th>Explanation</th>\n",
       "      <th>Links</th>\n",
       "    </tr>\n",
       "  </thead>\n",
       "  <tbody>\n",
       "    <tr>\n",
       "      <th>94</th>\n",
       "      <td>2017-06-01</td>\n",
       "      <td>China will be allowed to build hundreds of add...</td>\n",
       "      <td>The agreement doesn’t allow or disallow buildi...</td>\n",
       "      <td>https://www.washingtonpost.com/news/the-fix/wp...</td>\n",
       "    </tr>\n",
       "  </tbody>\n",
       "</table>\n",
       "</div>"
      ],
      "text/plain": [
       "          date                                          Trump lie  \\\n",
       "94  2017-06-01  China will be allowed to build hundreds of add...   \n",
       "\n",
       "                                          Explanation  \\\n",
       "94  The agreement doesn’t allow or disallow buildi...   \n",
       "\n",
       "                                                Links  \n",
       "94  https://www.washingtonpost.com/news/the-fix/wp...  "
      ]
     },
     "execution_count": 185,
     "metadata": {},
     "output_type": "execute_result"
    }
   ],
   "source": [
    "# Trump lie on india , china about the aggrement of coal plants\n",
    "df[df[\"Trump lie\"].str.contains('India')]"
   ]
  },
  {
   "cell_type": "code",
   "execution_count": 186,
   "metadata": {
    "scrolled": true
   },
   "outputs": [
    {
     "data": {
      "text/plain": [
       "'China will be allowed to build hundreds of additional coal plants. So, we can’t build the plants, but they can, according to this agreement. India will be allowed to double its coal production by 2020.'"
      ]
     },
     "execution_count": 186,
     "metadata": {},
     "output_type": "execute_result"
    }
   ],
   "source": [
    "df.iloc[93,1]"
   ]
  },
  {
   "cell_type": "markdown",
   "metadata": {},
   "source": [
    "### Thankyou"
   ]
  },
  {
   "cell_type": "code",
   "execution_count": null,
   "metadata": {},
   "outputs": [],
   "source": []
  }
 ],
 "metadata": {
  "kernelspec": {
   "display_name": "Python 3",
   "language": "python",
   "name": "python3"
  },
  "language_info": {
   "codemirror_mode": {
    "name": "ipython",
    "version": 3
   },
   "file_extension": ".py",
   "mimetype": "text/x-python",
   "name": "python",
   "nbconvert_exporter": "python",
   "pygments_lexer": "ipython3",
   "version": "3.8.5"
  }
 },
 "nbformat": 4,
 "nbformat_minor": 4
}
